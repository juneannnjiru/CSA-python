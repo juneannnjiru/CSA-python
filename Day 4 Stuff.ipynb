{
 "cells": [
  {
   "cell_type": "raw",
   "id": "f2dbe60d-2298-401e-95a0-a7a29c3d7936",
   "metadata": {},
   "source": [
    "    WORKING WITH LISTS"
   ]
  },
  {
   "cell_type": "code",
   "execution_count": 1,
   "id": "2adbf013-bfef-4a19-8ee4-64f3d6aaa5b1",
   "metadata": {},
   "outputs": [
    {
     "name": "stdout",
     "output_type": "stream",
     "text": [
      "['blue', 'white']\n"
     ]
    }
   ],
   "source": [
    "colors = [\"yellow\", \"blue\", \"white\"]\n",
    "\n",
    "print(colors[1:])"
   ]
  },
  {
   "cell_type": "code",
   "execution_count": 2,
   "id": "a1118295-574c-4e4e-aa32-dbf047818d0b",
   "metadata": {},
   "outputs": [
    {
     "name": "stdout",
     "output_type": "stream",
     "text": [
      "Nigeria\n"
     ]
    }
   ],
   "source": [
    "countries = [\"Kenya\", \"Scotland\", \"Nigeria\", \"Uganda\", \"Ireland\", \"Tanzania\", \"Rwanda\", \"Congo\"]\n",
    "\n",
    "print(countries[2])"
   ]
  },
  {
   "cell_type": "code",
   "execution_count": 3,
   "id": "b09f8ad2-d622-4e62-bb96-0070ce8723a8",
   "metadata": {},
   "outputs": [
    {
     "name": "stdout",
     "output_type": "stream",
     "text": [
      "Congo\n",
      "Congo\n"
     ]
    }
   ],
   "source": [
    "print(countries[7])\n",
    "print(countries[-1])"
   ]
  },
  {
   "cell_type": "code",
   "execution_count": 4,
   "id": "6ef17e34-47d8-4bbc-8200-49af7fb12514",
   "metadata": {},
   "outputs": [
    {
     "name": "stdout",
     "output_type": "stream",
     "text": [
      "Kenya\n"
     ]
    }
   ],
   "source": [
    "print(countries[0])"
   ]
  },
  {
   "cell_type": "code",
   "execution_count": 5,
   "id": "926edb62-26f6-4555-9cb6-78c3d797afed",
   "metadata": {},
   "outputs": [
    {
     "name": "stdout",
     "output_type": "stream",
     "text": [
      "['Scotland', 'Nigeria', 'Uganda', 'Ireland']\n"
     ]
    }
   ],
   "source": [
    "print(countries[1:5])"
   ]
  },
  {
   "cell_type": "code",
   "execution_count": 6,
   "id": "df9bc183-efda-4bd8-b03b-5086b7acb368",
   "metadata": {},
   "outputs": [
    {
     "name": "stdout",
     "output_type": "stream",
     "text": [
      "['Kenya', 'Scotland', 'Nigeria', 'Uganda']\n"
     ]
    }
   ],
   "source": [
    "print(countries[:4])"
   ]
  },
  {
   "cell_type": "code",
   "execution_count": 7,
   "id": "c64ca2df-57aa-4a75-b44c-096a40bbb549",
   "metadata": {},
   "outputs": [
    {
     "name": "stdout",
     "output_type": "stream",
     "text": [
      "Tanzania Rwanda Congo\n",
      "['Tanzania', 'Rwanda', 'Congo']\n"
     ]
    }
   ],
   "source": [
    "print(countries[-3],countries[-2],countries[-1])\n",
    "print(countries[-3:])"
   ]
  },
  {
   "cell_type": "code",
   "execution_count": 8,
   "id": "34ddbfbc-a19c-4a36-82aa-df71015063d1",
   "metadata": {},
   "outputs": [
    {
     "name": "stdout",
     "output_type": "stream",
     "text": [
      "Scotland\n",
      "['Scotland']\n"
     ]
    }
   ],
   "source": [
    "print(countries[1])\n",
    "print(countries[1:2])"
   ]
  },
  {
   "cell_type": "code",
   "execution_count": 9,
   "id": "b24043f1-c64b-463c-aabb-4f339a39c28a",
   "metadata": {},
   "outputs": [
    {
     "name": "stdout",
     "output_type": "stream",
     "text": [
      "Nigeria\n",
      "Uganda\n",
      "Ireland\n",
      "Tanzania\n"
     ]
    }
   ],
   "source": [
    "for country in countries[2:6]:\n",
    "    print(country)"
   ]
  },
  {
   "cell_type": "code",
   "execution_count": 10,
   "id": "a7a5f434-97f9-4d9a-9641-6314f7a3eb32",
   "metadata": {},
   "outputs": [
    {
     "name": "stdout",
     "output_type": "stream",
     "text": [
      "['Congo', 'Rwanda', 'Tanzania', 'Ireland', 'Uganda', 'Nigeria', 'Scotland', 'Kenya']\n"
     ]
    }
   ],
   "source": [
    "print(countries[::-1])"
   ]
  },
  {
   "cell_type": "code",
   "execution_count": 11,
   "id": "101e976a-9cc8-4250-8acb-98daa9f79128",
   "metadata": {},
   "outputs": [
    {
     "name": "stdout",
     "output_type": "stream",
     "text": [
      "P\n",
      "a\n",
      "v\n",
      "n\n",
      "n\n",
      "ff\n",
      "Python\n"
     ]
    }
   ],
   "source": [
    "python = \"Python is very difficult to learn\"\n",
    "\n",
    "#print p\n",
    "print(python[0])\n",
    "\n",
    "#print a\n",
    "print(python[-3])\n",
    "\n",
    "#print v\n",
    "print(python[10])\n",
    "\n",
    "#print n\n",
    "print(python[-1])\n",
    "print(python[5])\n",
    "\n",
    "#print ff\n",
    "print(python[17:19])\n",
    "\n",
    "#print Python\n",
    "print(python[:6])\n"
   ]
  },
  {
   "cell_type": "code",
   "execution_count": 12,
   "id": "1f3617d6-d3ff-419a-a2a3-9754ac7b4b7d",
   "metadata": {},
   "outputs": [
    {
     "name": "stdout",
     "output_type": "stream",
     "text": [
      "difficult\n",
      "learn\n"
     ]
    }
   ],
   "source": [
    "#print difficult\n",
    "print(python[15:24])\n",
    "\n",
    "#print learn\n",
    "print(python[-5:])"
   ]
  },
  {
   "cell_type": "code",
   "execution_count": 13,
   "id": "90da1806-49d2-40b1-bcf3-6de6ed2b4980",
   "metadata": {},
   "outputs": [
    {
     "name": "stdout",
     "output_type": "stream",
     "text": [
      "Ph  rdfu  a\n",
      "nrael ot tluciffid yrev si nohtyP\n",
      "ltfysh\n",
      "tluciffid\n"
     ]
    }
   ],
   "source": [
    "#print every third letter\n",
    "print(python[0::3])\n",
    "\n",
    "#print the message backwards\n",
    "print(python[32::-1])\n",
    "\n",
    "#print every 5th letter backwards\n",
    "print(python[-5::-5])\n",
    "\n",
    "#print difficult backwards\n",
    "print(python[23:14:-1])"
   ]
  },
  {
   "cell_type": "code",
   "execution_count": 14,
   "id": "0148eac5-dae5-4093-b9d0-f1a4860008c4",
   "metadata": {},
   "outputs": [],
   "source": [
    "python = \"Python is very difficult to learn\"\n"
   ]
  },
  {
   "cell_type": "code",
   "execution_count": 15,
   "id": "e9c7a850-7437-47b3-b49e-6ceb47ad3d97",
   "metadata": {},
   "outputs": [
    {
     "name": "stdout",
     "output_type": "stream",
     "text": [
      "n lfrit\n"
     ]
    }
   ],
   "source": [
    "#print every 5th letter backwards\n",
    "print(python[-1:-32:-5])\n"
   ]
  },
  {
   "cell_type": "code",
   "execution_count": null,
   "id": "2542be98-9fe3-47bf-a470-bb278531d518",
   "metadata": {},
   "outputs": [],
   "source": []
  },
  {
   "cell_type": "code",
   "execution_count": 16,
   "id": "0e1f7b4c-b0fa-46f7-8dea-c1225ffb65c6",
   "metadata": {},
   "outputs": [],
   "source": [
    "airport = [\"glasgow\", 1234, [\"nairobi\", \"dublin\", \"lagos\"]]\n",
    "airport[0] = \"london\"\n"
   ]
  },
  {
   "cell_type": "code",
   "execution_count": 26,
   "id": "b74ea8d3-9f08-4954-b7ff-0c6f3a9b9cb7",
   "metadata": {},
   "outputs": [
    {
     "name": "stdout",
     "output_type": "stream",
     "text": [
      "Scotland\n",
      "2003\n",
      "Johnson\n",
      "22\n",
      "['Orla', 'Johnson', 2003, 22, 'Scotland', [99, 67, 84, 58, 75]]\n",
      "O.J.\n",
      "['Orla', 'Johnson', 2003, 22, 'Kenya', [99, 67, 84, 58, 75]]\n",
      "['Orla', 'Ross', 2003, 22, 'Kenya', [99, 67, 84, 58, 75]]\n",
      "[99, 67, 84, 58, 75]\n",
      "Total marks = 383\n",
      "['Orla', 'Ross', 2003, 22, 'Kenya', [99, 67, 84, 58, 75], 383]\n"
     ]
    }
   ],
   "source": [
    "student = [\"Orla\", \"Johnson\", 2003, \"Scotland\", [99,67,84,58,75]]\n",
    "#print out the country Orla is from\n",
    "print(student[3])\n",
    "\n",
    "#print out the year she was born\n",
    "print(student[2])\n",
    "\n",
    "#print out her surname\n",
    "print(student[1])\n",
    "\n",
    "#print out the age she will be this year\n",
    "age = 2025 - student[2]\n",
    "print(age)\n",
    "student = student[:3] + [age] + student[3:]\n",
    "print(student)\n",
    "\n",
    "#print out her initials\n",
    "print(f\"{student[0][0]}.{student[1][0]}.\")\n",
    "\n",
    "#change her country to kenya\n",
    "student[4] = \"Kenya\"\n",
    "print(student)\n",
    "m \n",
    "#change her surname to Ross\n",
    "student[1] = \"Ross\"\n",
    "print(student)\n",
    "\n",
    "#print out the list of results of her exam\n",
    "print(student[5])\n",
    "\n",
    "#calculate the total of her exams and add it to the list\n",
    "total = 0\n",
    "for i in student[5]:\n",
    "    total = total + i\n",
    "print(f\"Total marks = {total}\")\n",
    "student = student + [total]\n",
    "print(student)"
   ]
  },
  {
   "cell_type": "code",
   "execution_count": null,
   "id": "07a8e4d5-ab46-40df-a528-7f1584a1a0a5",
   "metadata": {},
   "outputs": [],
   "source": []
  },
  {
   "cell_type": "code",
   "execution_count": 39,
   "id": "282a20b5-660d-4afe-a89e-5339f9bd491b",
   "metadata": {},
   "outputs": [],
   "source": [
    "marks = [[5,3,8],[69,23,55,84,93,12],[12,23,17,9,6],[137,287]]\n",
    "subject = [\"Data Science\", \"Fundamentals\", \"Software Engineering\", \"Machine Learning\"]\n",
    "\n"
   ]
  },
  {
   "cell_type": "code",
   "execution_count": 49,
   "id": "60e5a651-68f4-4b4f-a037-32fab4bb4d24",
   "metadata": {},
   "outputs": [
    {
     "name": "stdout",
     "output_type": "stream",
     "text": [
      "average of [5, 3, 8] = 5.333333333333333\n",
      "average of [69, 23, 55, 84, 93, 12] = 56.0\n",
      "average of [12, 23, 17, 9, 6] = 13.4\n",
      "average of [137, 287] = 212.0\n",
      "[212.0]\n"
     ]
    }
   ],
   "source": [
    "marks = [[5,3,8],[69,23,55,84,93,12],[12,23,17,9,6],[137,287]]\n",
    "\n",
    "for num in marks:\n",
    "    total = 0\n",
    "    count = 0\n",
    "    for i in num:\n",
    "        total = total + i\n",
    "        count = count + 1\n",
    "        average = total/count\n",
    "    averages = [] + [average]\n",
    "    print(f\"average of {num} = {average}\")\n",
    "print(averages)"
   ]
  },
  {
   "cell_type": "code",
   "execution_count": 53,
   "id": "865387df-031f-4c4c-ada8-d27087334fb2",
   "metadata": {},
   "outputs": [
    {
     "name": "stdout",
     "output_type": "stream",
     "text": [
      "a\n",
      "a\n",
      "a\n"
     ]
    }
   ],
   "source": [
    "cities = [\"Dublin\",\"Glasgow\",\"Edinburgh\",[\"Nairobi\",\"Lagos\",\"Cairo\"],\"London\"]\n",
    "for city in cities[3]:\n",
    "    print(f\"{city[1][0]}\")"
   ]
  },
  {
   "cell_type": "code",
   "execution_count": 54,
   "id": "f0acc9f3-6844-4ca8-bfcf-282dd8dff4ce",
   "metadata": {},
   "outputs": [
    {
     "name": "stdout",
     "output_type": "stream",
     "text": [
      "Na\n",
      "La\n",
      "Ca\n"
     ]
    }
   ],
   "source": [
    "cities = [\"Dublin\",\"Glasgow\",\"Edinburgh\",[\"Nairobi\",\"Lagos\",\"Cairo\"],\"London\"]\n",
    "for city in cities[3]:\n",
    "    print(city[:2])"
   ]
  },
  {
   "cell_type": "code",
   "execution_count": null,
   "id": "e5fab66a-a8b2-438f-bac3-9a79e152f696",
   "metadata": {},
   "outputs": [],
   "source": []
  }
 ],
 "metadata": {
  "kernelspec": {
   "display_name": "Python [conda env:base] *",
   "language": "python",
   "name": "conda-base-py"
  },
  "language_info": {
   "codemirror_mode": {
    "name": "ipython",
    "version": 3
   },
   "file_extension": ".py",
   "mimetype": "text/x-python",
   "name": "python",
   "nbconvert_exporter": "python",
   "pygments_lexer": "ipython3",
   "version": "3.13.5"
  }
 },
 "nbformat": 4,
 "nbformat_minor": 5
}
