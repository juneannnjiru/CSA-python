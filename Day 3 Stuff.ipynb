{
 "cells": [
  {
   "cell_type": "code",
   "execution_count": 25,
   "id": "5daf52f0-be5c-4eea-9d63-623842d532a2",
   "metadata": {},
   "outputs": [],
   "source": [
    "import turtle as t\n",
    "\n",
    "t.reset()\n",
    "t.goto(-300,0)\n",
    "for i in range(4):\n",
    "    t.forward(100)\n",
    "    t.left(90)\n",
    "t.forward(100)\n",
    "for i in range(4):\n",
    "    t.forward(100)\n",
    "    t.left(90)\n",
    "t.forward(100)\n",
    "for i in range(4):\n",
    "    t.forward(100)\n",
    "    t.left(90)\n",
    "t.forward(100)\n",
    "for i in range(4):\n",
    "    t.forward(100)\n",
    "    t.left(90)\n",
    "t.forward(100)"
   ]
  },
  {
   "cell_type": "code",
   "execution_count": 53,
   "id": "18b985ee-b685-4ea0-b0a4-76ec8747950b",
   "metadata": {},
   "outputs": [],
   "source": [
    "import turtle as t\n",
    "\n",
    "t.reset()\n",
    "for j in range(4):\n",
    "    for i in range(4):\n",
    "        t.right(90)\n",
    "        t.forward(100)\n",
    "    t.forward(100)"
   ]
  },
  {
   "cell_type": "code",
   "execution_count": 52,
   "id": "cd7ee077-541f-49c9-9ece-388ac9d1983a",
   "metadata": {},
   "outputs": [],
   "source": [
    "import turtle as t\n",
    "\n",
    "t.reset()\n",
    "t.right(90)\n",
    "for j in range(4):\n",
    "    for i in range(4):\n",
    "        t.right(90)\n",
    "        t.forward(100)\n",
    "    t.left(90)\n",
    "    for i in range(4):\n",
    "        t.forward(100)\n",
    "        t.left(90)\n",
    "    t.forward(100)"
   ]
  },
  {
   "cell_type": "code",
   "execution_count": 55,
   "id": "9b884946-c519-4e08-b8d5-5f0780404730",
   "metadata": {},
   "outputs": [],
   "source": [
    "import turtle as t\n",
    "\n",
    "t.reset()\n",
    "\n",
    "for j in range(4):\n",
    "    for i in range(4):\n",
    "        t.right(90)\n",
    "        t.forward(100)\n",
    "    t.forward(100)"
   ]
  },
  {
   "cell_type": "code",
   "execution_count": 8,
   "id": "defb7133-10ce-46a5-a66e-7474e6b74ea2",
   "metadata": {},
   "outputs": [],
   "source": [
    "import turtle as t\n",
    "\n",
    "t.reset()\n",
    "for j in range(4):\n",
    "    for i in range(4):\n",
    "        t.pendown()\n",
    "        t.right(90)\n",
    "        t.forward(100)\n",
    "        t.penup()\n",
    "    t.forward(100)"
   ]
  },
  {
   "cell_type": "code",
   "execution_count": 1,
   "id": "16f58f4d-3209-41c5-adb6-fb0c766976ec",
   "metadata": {},
   "outputs": [],
   "source": [
    "import turtle as t\n",
    "\n",
    "t.reset()\n",
    "t.penup()\n",
    "x = 200\n",
    "t.goto(-200,x)\n",
    "for k in range(4):\n",
    "    for j in range(4):\n",
    "        for i in range(4):\n",
    "            t.pendown()\n",
    "            t.right(90)\n",
    "            t.forward(60)\n",
    "            t.penup()\n",
    "        t.forward(60)\n",
    "    x = x - 60\n",
    "    t.penup()\n",
    "    t.goto(-200,x)\n",
    "   "
   ]
  },
  {
   "cell_type": "code",
   "execution_count": 16,
   "id": "880e076a-d5bd-47af-8901-23f244449552",
   "metadata": {},
   "outputs": [
    {
     "name": "stdout",
     "output_type": "stream",
     "text": [
      "*****\n",
      "****\n",
      "***\n",
      "**\n",
      "*\n"
     ]
    }
   ],
   "source": [
    "for i in range(5,0,-1):\n",
    "    output = \"\"\n",
    "    for j in range(i):\n",
    "        output = output + \"*\"\n",
    "    print(output)\n"
   ]
  },
  {
   "cell_type": "code",
   "execution_count": 26,
   "id": "83c76f8d-d230-4a28-8fd9-35b3565b96ae",
   "metadata": {},
   "outputs": [
    {
     "name": "stdout",
     "output_type": "stream",
     "text": [
      "2 is at position 0 in the list results\n",
      "3 is at position 1 in the list results\n",
      "3 is at position 2 in the list results\n",
      "6 is at position 3 in the list results\n",
      "8 is at position 4 in the list results\n",
      "2 is at position 5 in the list results\n"
     ]
    }
   ],
   "source": [
    "results = [2,3,3,6,8,2,6]\n",
    "for i in range(6):\n",
    "    print(f\"{results[i]} is at position {i} in the list results\")"
   ]
  },
  {
   "cell_type": "code",
   "execution_count": 28,
   "id": "f559209c-747f-4857-bd0d-822aac4704d3",
   "metadata": {},
   "outputs": [
    {
     "name": "stdout",
     "output_type": "stream",
     "text": [
      "2\n"
     ]
    }
   ],
   "source": [
    "results = [2,3,3,6,8,2,6]\n",
    "total = 0\n",
    "print(f\"{results[0]}\")"
   ]
  },
  {
   "cell_type": "code",
   "execution_count": 33,
   "id": "dd808c07-85ec-4302-8e6a-2fb6f514db89",
   "metadata": {},
   "outputs": [
    {
     "name": "stdout",
     "output_type": "stream",
     "text": [
      "2\n",
      "5\n",
      "8\n",
      "14\n",
      "22\n",
      "24\n",
      "30\n",
      "final total = 30\n"
     ]
    }
   ],
   "source": [
    "results = [2,3,3,6,8,2,6]\n",
    "total = 0\n",
    "for i in range(7):\n",
    "    total = total + results[i]\n",
    "    print(total)\n",
    "\n",
    "print(f\"final total = {total}\") "
   ]
  },
  {
   "cell_type": "code",
   "execution_count": 42,
   "id": "6a3efde7-bbfc-43d4-95b6-73cbb9384675",
   "metadata": {},
   "outputs": [
    {
     "name": "stdout",
     "output_type": "stream",
     "text": [
      "total is 2\n",
      "total is 5\n",
      "total is 8\n",
      "total is 14\n",
      "total is 22\n",
      "total is 24\n",
      "total is 30\n",
      "final total = 30\n"
     ]
    }
   ],
   "source": [
    "total = 0\n",
    "results = [2,3,3,6,8,2,6]\n",
    "for i in range(7):\n",
    "    total = total + results[i]\n",
    "    print(f\"total is {total}\")\n",
    "print(f\"final total = {total}\")"
   ]
  },
  {
   "cell_type": "code",
   "execution_count": 2,
   "id": "2bf00e33-0d0f-4510-823f-6002bcc8a599",
   "metadata": {},
   "outputs": [
    {
     "name": "stdout",
     "output_type": "stream",
     "text": [
      "total is 2\n",
      "total is 5\n",
      "total is 8\n",
      "total is 14\n",
      "total is 22\n",
      "total is 24\n",
      "total is 30\n",
      "final total = 30\n"
     ]
    }
   ],
   "source": [
    "total = 0\n",
    "results = [2,3,3,6,8,2,6]\n",
    "for i in results:\n",
    "    total = total + i\n",
    "    print(f\"total is {total}\")\n",
    "print(f\"final total = {total}\")"
   ]
  },
  {
   "cell_type": "code",
   "execution_count": 58,
   "id": "dadad5ad-7b8d-41fe-b28e-646662e2db3c",
   "metadata": {},
   "outputs": [
    {
     "name": "stdout",
     "output_type": "stream",
     "text": [
      "final total = 169\n",
      "\n",
      "count = 8\n",
      "average = 21.125\n"
     ]
    }
   ],
   "source": [
    "marks = [17,23,8,42,33,12,25,9]\n",
    "count = 0\n",
    "total = 0\n",
    "\n",
    "for num in marks:\n",
    "    total = total + num\n",
    "    count = count + 1\n",
    "    \n",
    "average = total/count\n",
    "\n",
    "print(f\"final total = {total}\\n\")\n",
    "print(f\"count = {count}\")\n",
    "print(f\"average = {average}\")\n"
   ]
  },
  {
   "cell_type": "code",
   "execution_count": 59,
   "id": "f789c4bd-2ee2-43a3-ae7e-8d9d960ddb67",
   "metadata": {},
   "outputs": [
    {
     "name": "stdout",
     "output_type": "stream",
     "text": [
      "[17, 23, 8, 42, 33, 12, 25, 9, 2, 3, 3, 6, 8, 2, 6]\n"
     ]
    }
   ],
   "source": [
    "marks = [17,23,8,42,33,12,25,9]\n",
    "results = [2,3,3,6,8,2,6]\n",
    "\n",
    "list = marks + results\n",
    "print(list)"
   ]
  },
  {
   "cell_type": "code",
   "execution_count": 62,
   "id": "18cdfac2-90e8-4ead-bd37-611a9037eca3",
   "metadata": {},
   "outputs": [
    {
     "name": "stdout",
     "output_type": "stream",
     "text": [
      "Milo = 50\n",
      "Wes = 60\n",
      "Vilile = 64\n"
     ]
    }
   ],
   "source": [
    "marks = [50, 60, 64]\n",
    "students = ['Milo', 'Wes', 'Vilile']\n",
    "for i in range(3):\n",
    "    print(f\"{students[i]} = {marks[i]}\")"
   ]
  },
  {
   "cell_type": "code",
   "execution_count": 1,
   "id": "c3614bb5-feb8-4398-8b2a-f15513e0993c",
   "metadata": {},
   "outputs": [
    {
     "name": "stdout",
     "output_type": "stream",
     "text": [
      "stephen = 100\n",
      "sofiat = 75\n",
      "fionnuala = 10\n",
      "orla = 50\n",
      "grace = 66\n",
      "kennechi = 29\n"
     ]
    }
   ],
   "source": [
    "students = [\"stephen\", \"sofiat\", \"fionnuala\", \"orla\", \"grace\", \"kennechi\"]\n",
    "marks = [100,75, 10, 50, 66, 29]\n",
    "\n",
    "for i in range(len(students)):\n",
    "   print(f\"{students[i]} = {marks[i]}\") \n"
   ]
  },
  {
   "cell_type": "code",
   "execution_count": null,
   "id": "31f111a1-70b1-4f9b-88ee-45d449d3ce35",
   "metadata": {},
   "outputs": [],
   "source": []
  }
 ],
 "metadata": {
  "kernelspec": {
   "display_name": "Python [conda env:base] *",
   "language": "python",
   "name": "conda-base-py"
  },
  "language_info": {
   "codemirror_mode": {
    "name": "ipython",
    "version": 3
   },
   "file_extension": ".py",
   "mimetype": "text/x-python",
   "name": "python",
   "nbconvert_exporter": "python",
   "pygments_lexer": "ipython3",
   "version": "3.13.5"
  }
 },
 "nbformat": 4,
 "nbformat_minor": 5
}
