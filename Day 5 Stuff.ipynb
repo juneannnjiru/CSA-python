{
 "cells": [
  {
   "cell_type": "code",
   "execution_count": 1,
   "id": "09a87ab9-e412-4232-81f0-a1cc0a212b74",
   "metadata": {},
   "outputs": [],
   "source": [
    "#draw a block of squares\n",
    "import turtle as t\n",
    "\n",
    "t.reset()\n",
    "t.penup()\n",
    "x = 200\n",
    "t.goto(-200,x)\n",
    "for k in range(4):\n",
    "    for j in range(4):\n",
    "        t.pendown()\n",
    "        t.circle(30)    \n",
    "        t.penup()\n",
    "        t.forward(60)\n",
    "x = x - 60\n",
    "t.penup()\n",
    "t.goto(-200,x)\n",
    "   "
   ]
  },
  {
   "cell_type": "code",
   "execution_count": 2,
   "id": "7ab6879c-3ddc-4e89-8a4b-2b1d1c7b16f2",
   "metadata": {},
   "outputs": [],
   "source": [
    "def square(x):\n",
    "    for i in range(4):\n",
    "        t.forward(x)\n",
    "        t.left(90)"
   ]
  },
  {
   "cell_type": "code",
   "execution_count": 3,
   "id": "1298d62f-c171-47b9-a67c-2762172acdbf",
   "metadata": {},
   "outputs": [],
   "source": [
    "import turtle as t\n",
    "\n",
    "t.reset()\n",
    "length = 40\n",
    "columns = 3\n",
    "rows = 3\n",
    "\n",
    "for i in range(rows):\n",
    "    for i in range(columns):\n",
    "        square(length)\n",
    "        t.penup()\n",
    "        t.forward(length)\n",
    "        t.pendown()\n",
    "    t.penup()\n",
    "    t.backward(columns*length)\n",
    "    t.left(90)\n",
    "    t.forward(length)\n",
    "    t.right(90)\n",
    "    t.pendown()\n"
   ]
  },
  {
   "cell_type": "code",
   "execution_count": 4,
   "id": "ad993dab-34a6-4558-aef0-fa2f4e41a5fd",
   "metadata": {},
   "outputs": [],
   "source": [
    "def star(size):\n",
    "    import turtle as t \n",
    "    for i in range(20):\n",
    "        t.pendown()\n",
    "        t.forward(size)\n",
    "        t.left(162)\n",
    "        t.penup()\n",
    "\n",
    "import turtle as t\n",
    "\n",
    "t.reset()\n",
    "length = 60\n",
    "columns = 3\n",
    "rows = 3\n",
    "\n",
    "for i in range(rows):\n",
    "    for i in range(columns):\n",
    "        star(60)\n",
    "        t.penup()\n",
    "        t.forward(length)\n",
    "        t.pendown()\n",
    "    t.penup()\n",
    "    t.backward(columns*length)\n",
    "    t.left(90)\n",
    "    t.forward(length)\n",
    "    t.right(90)\n",
    "    t.pendown()"
   ]
  },
  {
   "cell_type": "code",
   "execution_count": 5,
   "id": "56b4ee1f-dee3-4361-a709-abd7c7991ebf",
   "metadata": {},
   "outputs": [],
   "source": [
    "def shape(sides=4,length=100): #default quadrilateral if measurements not provided is square with 100 units length. When other measurements are provided shape adapts\n",
    "    for i in range(sides):\n",
    "        t.forward(length)\n",
    "        t.left(360/sides)\n"
   ]
  },
  {
   "cell_type": "code",
   "execution_count": 6,
   "id": "209a2631-7dc5-4cdb-8210-f02d87a8d17e",
   "metadata": {},
   "outputs": [],
   "source": [
    "import turtle as t\n",
    "t.reset()\n",
    "shape() #print default shape(square)\n",
    "t.penup()\n",
    "t.goto(-200,100)\n",
    "t.pendown()\n",
    "\n",
    "shape(6) #prints hexagon with unit length 100\n",
    "t.penup()\n",
    "t.goto(200,100)\n",
    "t.pendown()\n",
    "\n",
    "shape(3,70) #prints tringle with sides 70 units\n",
    "t.penup()\n",
    "t.goto(0,-100)\n",
    "t.pendown()\n",
    "star(60)"
   ]
  },
  {
   "cell_type": "raw",
   "id": "2f741984-d469-4d14-b1c6-74bcafd22090",
   "metadata": {},
   "source": [
    "Write a function that takes a list [name, age, city]\n",
    "and prints  it nicely\n",
    "For example:\n",
    "    student = [\"Orla\", 21, \"Glasgow\"]\n",
    "Then print\n",
    "    Orla : 23 : Glasgow"
   ]
  },
  {
   "cell_type": "code",
   "execution_count": 7,
   "id": "20b17b4a-0c5a-4b60-abf2-7ef002b81468",
   "metadata": {},
   "outputs": [],
   "source": [
    "tutors = [[\"Orla\", 22, \"London\"],[\"Stephen\",30, \"St Andrews\"],[\"Sofiat\", 25, \"Lagos\"], [\"Fionnuala\", 100, \"Dublin\"]]"
   ]
  },
  {
   "cell_type": "code",
   "execution_count": 22,
   "id": "c8f4d349-6256-4ac2-9a25-f762d7afa1a6",
   "metadata": {},
   "outputs": [],
   "source": [
    "def print_list(name):\n",
    "    print(f\"{name[0]:<10} : {name[1]:^5} : {name[2]:>10}\")"
   ]
  },
  {
   "cell_type": "code",
   "execution_count": 23,
   "id": "43187ab3-1c72-449e-b7de-5dc5fe946836",
   "metadata": {},
   "outputs": [
    {
     "name": "stdout",
     "output_type": "stream",
     "text": [
      "Orla       :  21   :    Glasgow\n"
     ]
    }
   ],
   "source": [
    "student = [\"Orla\", 21, \"Glasgow\"]\n",
    "print_list(student)"
   ]
  },
  {
   "cell_type": "code",
   "execution_count": 33,
   "id": "78f7617c-eb30-47b6-b1eb-ab4b0a7c8848",
   "metadata": {},
   "outputs": [],
   "source": [
    "def print_list(name):\n",
    "    for item in name:\n",
    "        print(f\"{item[0]:<10} : {item[1]:<10} : {item[2]:<10}\")"
   ]
  },
  {
   "cell_type": "code",
   "execution_count": 34,
   "id": "0e3bec31-cdc8-48c2-acf8-0983e1af5c3a",
   "metadata": {},
   "outputs": [
    {
     "name": "stdout",
     "output_type": "stream",
     "text": [
      "Orla       : 22         : London    \n",
      "Stephen    : 30         : St Andrews\n",
      "Sofiat     : 25         : Lagos     \n",
      "Fionnuala  : 100        : Dublin    \n"
     ]
    }
   ],
   "source": [
    "tutors = [[\"Orla\", 22, \"London\"],[\"Stephen\",30, \"St Andrews\"],[\"Sofiat\", 25, \"Lagos\"], [\"Fionnuala\", 100, \"Dublin\"]]\n",
    "print_list(tutors)"
   ]
  },
  {
   "cell_type": "code",
   "execution_count": 38,
   "id": "3bf9620b-e9ea-456d-b2fd-ff7b7fd6be4a",
   "metadata": {},
   "outputs": [
    {
     "name": "stdout",
     "output_type": "stream",
     "text": [
      "Orla       : 22         : London    \n",
      "Stephen    : 30         : St Andrews\n",
      "Sofiat     : 25         : Lagos     \n",
      "Fionnuala  : 100        : Dublin    \n"
     ]
    }
   ],
   "source": [
    "def print_list(item):\n",
    "    print(f\"{item[0]:<10} : {item[1]:<10} : {item[2]:<10}\")\n",
    "\n",
    "for i in range(len(tutors)):\n",
    "    print_list(tutors[i])"
   ]
  },
  {
   "cell_type": "code",
   "execution_count": 40,
   "id": "37b443c6-b7ee-4edf-a7a6-472ae9ef5bf7",
   "metadata": {},
   "outputs": [
    {
     "name": "stdout",
     "output_type": "stream",
     "text": [
      "15\n"
     ]
    }
   ],
   "source": [
    "def f(x):\n",
    "    return x + 5\n",
    "\n",
    "y = f(10)\n",
    "print(y)"
   ]
  },
  {
   "cell_type": "code",
   "execution_count": null,
   "id": "ed2439e1-7220-42f1-a601-a67ebb9589af",
   "metadata": {},
   "outputs": [],
   "source": [
    "write a function to:\n",
    "    square a number\n",
    "    take a list of numbers and return a total of all of the numbers in the list\n",
    "    take a list and return the number of elements in  a list\n",
    "    takes a list of numbers and returns average of the numbers in one line   \n"
   ]
  },
  {
   "cell_type": "code",
   "execution_count": 49,
   "id": "dfce2d32-55f9-4dbe-9cb7-c5a3b0bf37cd",
   "metadata": {},
   "outputs": [
    {
     "name": "stdout",
     "output_type": "stream",
     "text": [
      "81\n"
     ]
    }
   ],
   "source": [
    "def sq(x):\n",
    "    return x**2\n",
    "z = sq(9)\n",
    "print(z)"
   ]
  },
  {
   "cell_type": "code",
   "execution_count": 50,
   "id": "e6e150ea-a32e-4494-a834-66a68547bfe7",
   "metadata": {},
   "outputs": [
    {
     "data": {
      "text/plain": [
       "17"
      ]
     },
     "execution_count": 50,
     "metadata": {},
     "output_type": "execute_result"
    }
   ],
   "source": [
    "prime = [2,3,5,7]\n",
    "\n",
    "def add(name):\n",
    "    total = 0\n",
    "    for i in range(len(name)):\n",
    "        total = total + name[i]\n",
    "    return total\n",
    "\n",
    "add(prime)"
   ]
  },
  {
   "cell_type": "code",
   "execution_count": 51,
   "id": "90a5a543-53f6-4036-88d1-476278a84104",
   "metadata": {},
   "outputs": [
    {
     "data": {
      "text/plain": [
       "4"
      ]
     },
     "execution_count": 51,
     "metadata": {},
     "output_type": "execute_result"
    }
   ],
   "source": [
    "def length(grade):\n",
    "    return len(grade)\n",
    "    \n",
    "length(prime)"
   ]
  },
  {
   "cell_type": "code",
   "execution_count": 52,
   "id": "0f560781-7575-4a72-9ded-3b7860053070",
   "metadata": {},
   "outputs": [
    {
     "data": {
      "text/plain": [
       "4.25"
      ]
     },
     "execution_count": 52,
     "metadata": {},
     "output_type": "execute_result"
    }
   ],
   "source": [
    "def avg(name):\n",
    "    total = 0\n",
    "    count=0\n",
    "    for i in range(len(name)):\n",
    "        total = total + name[i]\n",
    "        count=count+1\n",
    "    average=total/count\n",
    "    return average\n",
    "\n",
    "avg(prime)"
   ]
  },
  {
   "cell_type": "code",
   "execution_count": null,
   "id": "151123b3-9bf0-4dba-8543-f11cf1ab35ab",
   "metadata": {},
   "outputs": [],
   "source": []
  }
 ],
 "metadata": {
  "kernelspec": {
   "display_name": "Python [conda env:base] *",
   "language": "python",
   "name": "conda-base-py"
  },
  "language_info": {
   "codemirror_mode": {
    "name": "ipython",
    "version": 3
   },
   "file_extension": ".py",
   "mimetype": "text/x-python",
   "name": "python",
   "nbconvert_exporter": "python",
   "pygments_lexer": "ipython3",
   "version": "3.13.5"
  }
 },
 "nbformat": 4,
 "nbformat_minor": 5
}
