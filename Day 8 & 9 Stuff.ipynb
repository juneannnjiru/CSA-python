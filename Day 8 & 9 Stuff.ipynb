{
 "cells": [
  {
   "cell_type": "code",
   "execution_count": 1,
   "id": "f648b6d5-b13d-491e-b287-7c057368061f",
   "metadata": {},
   "outputs": [
    {
     "name": "stdout",
     "output_type": "stream",
     "text": [
      "['This', 'is', 'a', 'test']\n"
     ]
    }
   ],
   "source": [
    "# produce the output = [\"This\", \"is\", \"a\", \"test\"]\n",
    "sentence = \"This is a test\"\n",
    "\n",
    "wordlist = []\n",
    "word = \"\"\n",
    "for character in sentence:\n",
    "    if character != \" \":\n",
    "        word += character\n",
    "    else:\n",
    "        wordlist += [word]\n",
    "        word = \"\"\n",
    "wordlist += [word]\n",
    "print(wordlist)\n"
   ]
  },
  {
   "cell_type": "code",
   "execution_count": null,
   "id": "380a26d7-68ba-4e5e-99c4-85318c30a83f",
   "metadata": {},
   "outputs": [],
   "source": [
    "# #produce output \"hello everyone in computing\" \n",
    "# sentence2 = \"       hello everyone in computing       \"\n",
    "\n",
    "# wordlist2 = []\n",
    "# word2 = \"\"\n",
    "\n",
    "# for character in sentence2:\n",
    "#     while character != \" \":\n",
    "#         word2 += character\n",
    "\n",
    "# print(word2)\n"
   ]
  },
  {
   "cell_type": "code",
   "execution_count": 2,
   "id": "3270b7f9-4fe3-406c-b88d-502442507336",
   "metadata": {},
   "outputs": [
    {
     "name": "stdout",
     "output_type": "stream",
     "text": [
      "T is at position 0\n",
      "h is at position 1\n",
      "i is at position 2\n",
      "s is at position 3\n",
      "  is at position 4\n",
      "i is at position 5\n",
      "s is at position 6\n",
      "  is at position 7\n",
      "a is at position 8\n",
      "  is at position 9\n",
      "t is at position 10\n",
      "e is at position 11\n",
      "s is at position 12\n",
      "t is at position 13\n"
     ]
    }
   ],
   "source": [
    "for i in range(len(sentence)):\n",
    "    print(f\"{sentence[i]} is at position {i}\")"
   ]
  },
  {
   "cell_type": "code",
   "execution_count": 3,
   "id": "0673e792-0a64-46ee-9d7c-ee4691d45123",
   "metadata": {},
   "outputs": [
    {
     "name": "stdout",
     "output_type": "stream",
     "text": [
      "T is at position 0\n",
      "h is at position 1\n",
      "i is at position 2\n",
      "s is at position 3\n",
      "  is at position 4\n",
      "i is at position 5\n",
      "s is at position 6\n",
      "  is at position 7\n",
      "a is at position 8\n",
      "  is at position 9\n",
      "t is at position 10\n",
      "e is at position 11\n",
      "s is at position 12\n",
      "t is at position 13\n"
     ]
    }
   ],
   "source": [
    "start = 0\n",
    "while start < len(sentence):\n",
    "    print(f\"{sentence[start]} is at position {start}\")\n",
    "    start +=1\n",
    "    "
   ]
  },
  {
   "cell_type": "code",
   "execution_count": 4,
   "id": "bce96418-37b8-49a0-b646-dd9aa97e9069",
   "metadata": {},
   "outputs": [
    {
     "name": "stdout",
     "output_type": "stream",
     "text": [
      "  is at position 21\n",
      "  is at position 20\n",
      "  is at position 19\n",
      "a is at position 18\n",
      "y is at position 17\n",
      "n is at position 16\n",
      "e is at position 15\n",
      "k is at position 14\n",
      "  is at position 13\n",
      "  is at position 12\n",
      "o is at position 11\n",
      "l is at position 10\n",
      "l is at position 9\n",
      "e is at position 8\n",
      "h is at position 7\n",
      "  is at position 6\n",
      "  is at position 5\n",
      "  is at position 4\n",
      "  is at position 3\n",
      "  is at position 2\n",
      "  is at position 1\n",
      "  is at position 0\n"
     ]
    }
   ],
   "source": [
    "sentence = \"       hello  kenya   \"\n",
    "\n",
    "end = len(sentence) -1\n",
    "while end >=0:\n",
    "    print(f\"{sentence[end]} is at position {end}\")\n",
    "    end -= 1"
   ]
  },
  {
   "cell_type": "code",
   "execution_count": 6,
   "id": "a1a8ce69-fc5f-4f41-b28c-f97e1bf6a652",
   "metadata": {},
   "outputs": [
    {
     "name": "stdout",
     "output_type": "stream",
     "text": [
      "  is at position 0\n",
      "  is at position 1\n",
      "  is at position 2\n",
      "  is at position 3\n",
      "  is at position 4\n",
      "  is at position 5\n",
      "  is at position 6\n",
      "h is the start at position 7\n"
     ]
    }
   ],
   "source": [
    "sentence = \"       hello  kenya   \"\n",
    "\n",
    "i = 0\n",
    "while sentence[i] == \" \" and i < len(sentence):\n",
    "    print(f\"{sentence[i]} is at position {i}\")\n",
    "    i +=1\n",
    "print(f\"{sentence[i]} is the start at position {i}\")"
   ]
  },
  {
   "cell_type": "code",
   "execution_count": 10,
   "id": "914f416e-0532-4563-998e-ae8ef2c8dd19",
   "metadata": {},
   "outputs": [],
   "source": [
    "sentence = \"       hello  kenya   \"\n",
    "\n",
    "i = 0\n",
    "while sentence[i] == \" \" and i < len(sentence):\n",
    "    i +=1\n",
    "    if character != \" \":\n",
    "        word += character\n",
    "    else:\n",
    "        wordlist += [word]\n",
    "        word = \"\"\n",
    "    wordlist += [word]"
   ]
  },
  {
   "cell_type": "code",
   "execution_count": 12,
   "id": "4084c347-6625-42b4-865f-f2f0ad69376f",
   "metadata": {},
   "outputs": [
    {
     "name": "stdout",
     "output_type": "stream",
     "text": [
      "  is at position 21\n",
      "  is at position 20\n",
      "  is at position 19\n",
      "a is at position 18\n"
     ]
    }
   ],
   "source": [
    "sentence = \"       hello  kenya   \"\n",
    "\n",
    "end = len(sentence) -1\n",
    "while end >= 0 and sentence[end]== \" \":\n",
    "    print(f\"{sentence[end]} is at position {end}\")\n",
    "    end -=1\n",
    "print(f\"{sentence[end]} is at position {end}\")"
   ]
  },
  {
   "cell_type": "code",
   "execution_count": 16,
   "id": "3af4c002-469a-4674-80f0-39d0cfad213b",
   "metadata": {},
   "outputs": [
    {
     "name": "stdout",
     "output_type": "stream",
     "text": [
      "hello  keny\n"
     ]
    }
   ],
   "source": [
    "new_sentence = sentence[i:end]\n",
    "print(new_sentence)"
   ]
  },
  {
   "cell_type": "code",
   "execution_count": 17,
   "id": "85478ffb-28d9-41bc-b698-b49aa9d48122",
   "metadata": {},
   "outputs": [
    {
     "name": "stdout",
     "output_type": "stream",
     "text": [
      "Lagos\n",
      "St Andrews\n",
      "London\n",
      "Dublin\n"
     ]
    }
   ],
   "source": [
    "tutor_info = [[\"Sofiat\",25,\"Lagos\"],[\"Stephen\",30,\"St Andrews\"],\n",
    "             [\"Orla\",21,\"London\"],[\"Fionnuala\",100,\"Dublin\"]]\n",
    "\n",
    "for tutor in tutor_info:\n",
    "    print(tutor[2])"
   ]
  },
  {
   "cell_type": "code",
   "execution_count": 18,
   "id": "56ed8819-b8f2-4b4a-ba1a-22116adfe5f3",
   "metadata": {},
   "outputs": [
    {
     "name": "stdout",
     "output_type": "stream",
     "text": [
      "[1, 8, 1, 2]\n"
     ]
    }
   ],
   "source": [
    "tutor_info = [[\"Sofiat\",[5,3,6,1]],[\"Stephen\",[9,6,8]],\n",
    "             [\"Orla\",[7,7,3,4,1]],[\"Fionnuala\",[3,4,2]]]\n",
    "\n",
    "marks = []\n",
    "for tutor in tutor_info:\n",
    "    marks.append(tutor[1][-1])\n",
    "print(marks)"
   ]
  },
  {
   "cell_type": "code",
   "execution_count": 26,
   "id": "f7969dd1-dd3e-4692-bd49-bdf74962f530",
   "metadata": {},
   "outputs": [
    {
     "name": "stdout",
     "output_type": "stream",
     "text": [
      "[['Nairobi', '23 21 19 25'], ['Lagos', '33 31 32 33 30'], ['Glasgow', '12 11 13']]\n"
     ]
    }
   ],
   "source": [
    "with open(\"text-files/City_temps.txt\") as f:\n",
    "    new = []\n",
    "    for line in f:\n",
    "        clean = line.strip()\n",
    "        data = clean.split(\":\")\n",
    "        new.append(data)\n",
    "    print(new) "
   ]
  },
  {
   "cell_type": "code",
   "execution_count": 9,
   "id": "4cb7e464-510a-44d8-915d-add87d259048",
   "metadata": {},
   "outputs": [
    {
     "name": "stdout",
     "output_type": "stream",
     "text": [
      "[['Sofiat', '25'], ['Stephen', '30'], ['Fionnuala', '100'], ['Kenniche', '49'], ['Grace', '18'], ['Orla', '21'], ['Ariane', '28']]\n"
     ]
    }
   ],
   "source": [
    "with open(\"text-files/tutor_ages.txt\")as f:\n",
    "    tutor_ages = []\n",
    "    for line in f:\n",
    "        clean = line.strip()\n",
    "        data = clean.split(',')\n",
    "        tutor_ages.append(data)\n",
    "    print(tutor_ages)\n",
    "        "
   ]
  },
  {
   "cell_type": "code",
   "execution_count": 44,
   "id": "60998958-6c8d-419b-a5d9-d7049f570efd",
   "metadata": {},
   "outputs": [
    {
     "name": "stdout",
     "output_type": "stream",
     "text": [
      "18\n"
     ]
    }
   ],
   "source": [
    "#write a function that takes the list tutor_age and a name and returns the age of that tutor\n",
    "\n",
    "def find_age(tutor_ages, name):\n",
    "    for tutor in tutor_ages:\n",
    "        if name == tutor[0]:\n",
    "            return tutor[1]\n",
    "print(find_age(tutor_ages, 'Grace'))"
   ]
  },
  {
   "cell_type": "code",
   "execution_count": 46,
   "id": "c211a231-4a74-4f7d-aeb9-1c30fa2fa59f",
   "metadata": {},
   "outputs": [
    {
     "data": {
      "text/plain": [
       "'30'"
      ]
     },
     "execution_count": 46,
     "metadata": {},
     "output_type": "execute_result"
    }
   ],
   "source": [
    "#write a function that takes the list tutor_age and a name and returns the age of that tutor\n",
    "def find_age(name):\n",
    "    for tutor in tutor_ages:\n",
    "        if name == tutor[0]:\n",
    "            return tutor[1]\n",
    "find_age('Stephen')"
   ]
  },
  {
   "cell_type": "code",
   "execution_count": 48,
   "id": "37f44b92-cba4-4033-a920-5b08a6a192e9",
   "metadata": {},
   "outputs": [
    {
     "name": "stdout",
     "output_type": "stream",
     "text": [
      "Stephen\n"
     ]
    }
   ],
   "source": [
    "#write a function that takes the list tutor_age and a age and returns the name of that tutor\n",
    "def find_name(age):\n",
    "    for person in tutor_ages:\n",
    "        if age == person[1]:\n",
    "            return person[0]\n",
    "print(find_name('30'))"
   ]
  },
  {
   "cell_type": "code",
   "execution_count": 10,
   "id": "05f6b90c-e80a-4467-9e3a-e63a3a91194f",
   "metadata": {},
   "outputs": [
    {
     "name": "stdout",
     "output_type": "stream",
     "text": [
      "[['Sofiat', '25'], ['Stephen', '30'], ['Fionnuala', '100'], ['Kenniche', '49'], ['Grace', '18'], ['Orla', '21'], ['Ariane', '28']]\n",
      "['Grace', 'Orla']\n"
     ]
    }
   ],
   "source": [
    "#write a function that takes the list tutor_age and an age and returns all the tutors that are younger than that age.\n",
    "print(tutor_ages)\n",
    "def find_younger(anylist, age):\n",
    "    young_tutors = []\n",
    "    for tutor in anylist:\n",
    "        tutor[1] = int(tutor[1])\n",
    "        if tutor[1] < age:\n",
    "            young_tutors.append(tutor[0])\n",
    "    return young_tutors\n",
    "    \n",
    "print(find_younger(tutor_ages,25)) "
   ]
  },
  {
   "cell_type": "code",
   "execution_count": 64,
   "id": "141e4a79-f957-4b0e-ba0e-3a0e1154dade",
   "metadata": {},
   "outputs": [],
   "source": [
    "y = [a for a in tutor_ages if int(a[1]) < 25]"
   ]
  },
  {
   "cell_type": "code",
   "execution_count": 65,
   "id": "6a67705a-ac6c-47d1-96b0-8e42f894d62d",
   "metadata": {},
   "outputs": [
    {
     "data": {
      "text/plain": [
       "[['Grace', 18], ['Orla', 21]]"
      ]
     },
     "execution_count": 65,
     "metadata": {},
     "output_type": "execute_result"
    }
   ],
   "source": [
    "y"
   ]
  },
  {
   "cell_type": "code",
   "execution_count": 18,
   "id": "1ebf2535-004a-4448-8e05-d59b0c1b0047",
   "metadata": {},
   "outputs": [
    {
     "name": "stdout",
     "output_type": "stream",
     "text": [
      "[['26.2', ' 24.3', ' 21.1', ' 20.9', ' 25.4', ' 23.0'], ['33.4', ' 36.4', ' 24.2'], ['15.2', ' 18.7', ' 16.5', ' 14.2', ' 16.5'], ['18.5', ' 16.3', ' 16.7', ' 17.1', ' 17.0', ' 15.5', ' 17.4'], ['20.2', ' 20.4', ' 20.1', ' 14.6', ' 17.9'], ['41.5', ' 41.3', ' 41.9', ' 42.3', ' 43.1', ' 43.0'], ['27.6', ' 29.1', ' 28.2', ' 26.5'], ['28.2', ' 28.6', ' 28.4', ' 29.3', ' 27.6']]\n"
     ]
    }
   ],
   "source": [
    "#read in all the data from the file temperatures. \n",
    "with open(\"text-files/Temperatures.txt\")as temp:\n",
    "    data = []\n",
    "    for line in temp:\n",
    "        clean = line.strip()\n",
    "        blue = clean.split(',')\n",
    "        data.append(blue)\n",
    "    print(data)"
   ]
  },
  {
   "cell_type": "code",
   "execution_count": 23,
   "id": "d2ff8bc8-3e8c-466c-ad4d-a1b99a69b388",
   "metadata": {},
   "outputs": [
    {
     "name": "stdout",
     "output_type": "stream",
     "text": [
      "[[26.2, 24.3, 21.1, 20.9, 25.4, 23.0], [33.4, 36.4, 24.2], [15.2, 18.7, 16.5, 14.2, 16.5], [18.5, 16.3, 16.7, 17.1, 17.0, 15.5, 17.4], [20.2, 20.4, 20.1, 14.6, 17.9], [41.5, 41.3, 41.9, 42.3, 43.1, 43.0], [27.6, 29.1, 28.2, 26.5], [28.2, 28.6, 28.4, 29.3, 27.6]]\n"
     ]
    }
   ],
   "source": [
    "#read in all the data from the file temperatures. storing all values as numbers. \n",
    "with open(\"text-files/Temperatures.txt\")as temp:\n",
    "    data = []\n",
    "    for line in temp:\n",
    "        clean = line.strip()\n",
    "        blue = clean.split(',')\n",
    "\n",
    "        new = []\n",
    "        for b in blue:\n",
    "            new.append(float(b))\n",
    "\n",
    "        data.append(new)\n",
    "    print(data)"
   ]
  },
  {
   "cell_type": "code",
   "execution_count": 24,
   "id": "0526ef31-8b20-4d3c-aa62-c37953244409",
   "metadata": {},
   "outputs": [],
   "source": [
    "# write a function that takes all the temperatures and calculates the average of each list storing the averages in a new list"
   ]
  },
  {
   "cell_type": "code",
   "execution_count": 30,
   "id": "781c6bcf-4c91-4334-b55d-07a58c70a0a4",
   "metadata": {},
   "outputs": [
    {
     "name": "stdout",
     "output_type": "stream",
     "text": [
      "[23.483, 31.333, 16.22, 16.929, 18.64, 42.183, 27.85, 28.42]\n"
     ]
    }
   ],
   "source": [
    "def temp_avgs(data):\n",
    "    avgs = []\n",
    "    for group in data:\n",
    "        avg = sum(group)/len(group)\n",
    "        avgs.append(round(avg,3))\n",
    "    return avgs\n",
    "print(temp_avgs(data))"
   ]
  },
  {
   "cell_type": "markdown",
   "id": "8e82c01b-4c57-4ff3-abcd-c638062b04d2",
   "metadata": {},
   "source": [
    "##Dictionaries##"
   ]
  },
  {
   "cell_type": "code",
   "execution_count": 2,
   "id": "299bc693-0ab0-49a7-89e1-4675ab9be15a",
   "metadata": {},
   "outputs": [],
   "source": [
    "marks = [[5,3,8],[69,23,55,84,93,12],[12,23,17,9,6],[137,287]]\n",
    "tutors = [\"Kenniche\", \"Fionnuala\", \"Stephen\", \"Sofiat\"]\n",
    "subject = [\"Data science\", \"Fundamentals\", \"Software\", \"Machine Learing\"]\n",
    "         "
   ]
  },
  {
   "cell_type": "code",
   "execution_count": 6,
   "id": "0c7c1a6e-b341-46b7-9de2-74e7d5a1b925",
   "metadata": {},
   "outputs": [
    {
     "name": "stdout",
     "output_type": "stream",
     "text": [
      "Capital city in Kenya is Nairobi\n",
      "Capital city in Uganda is Kampala\n",
      "Capital city in Ghana is Accra\n",
      "Capital city in Ethiopia is Adis\n",
      "Capital city in Sudan is Khartoum\n"
     ]
    }
   ],
   "source": [
    "countries_dict = {\"Kenya\":\"Nairobi\",\"Uganda\":\"Kampala\",\"Ghana\":\"Accra\", \"Ethiopia\":\"Adis\", \"Sudan\":\"Khartoum\"}\n",
    "for country in countries_dict:\n",
    "    print(f\"Capital city in {country} is {countries_dict[country]}\")\n"
   ]
  },
  {
   "cell_type": "code",
   "execution_count": 9,
   "id": "51b81ffd-d5bd-42cf-ab18-fa2baefa3359",
   "metadata": {},
   "outputs": [],
   "source": [
    "def city_finder(country):\n",
    "    if country in countries_dict:\n",
    "        print(f\"The capital of {country} is {countries_dict[country]}\")\n",
    "    else:\n",
    "        print(f\"Sorry, we're still researching on that\")"
   ]
  },
  {
   "cell_type": "code",
   "execution_count": 10,
   "id": "c69fcb37-bc55-4e08-b772-a50c7c765888",
   "metadata": {},
   "outputs": [
    {
     "name": "stdout",
     "output_type": "stream",
     "text": [
      "The capital of Sudan is Khartoum\n"
     ]
    }
   ],
   "source": [
    "city_finder('Sudan')"
   ]
  },
  {
   "cell_type": "code",
   "execution_count": 8,
   "id": "1009a26a-f474-46cc-9278-52eeb6004496",
   "metadata": {},
   "outputs": [
    {
     "name": "stdin",
     "output_type": "stream",
     "text": [
      "what country? Sao Tome & Principe\n"
     ]
    }
   ],
   "source": [
    "neighbor = input(\"what country?\")\n",
    "if neighbor in countries_dict:\n",
    "    print(f\"The capital of {neighbor} is {countries_dict[country]}\")\n"
   ]
  },
  {
   "cell_type": "code",
   "execution_count": 11,
   "id": "6c786437-1e5e-4e4b-85cc-588d4a479700",
   "metadata": {},
   "outputs": [
    {
     "name": "stdout",
     "output_type": "stream",
     "text": [
      "{'Kenya': 'Nairobi', 'Uganda': 'Kampala', 'Ghana': 'Accra', 'Ethiopia': 'Adis', 'Sudan': 'Khartoum', 'Angola': 'Luanda'}\n"
     ]
    }
   ],
   "source": [
    "##Adding values to a dictionary\n",
    "countries_dict[\"Angola\"] = \"Luanda\"\n",
    "\n",
    "print(countries_dict)"
   ]
  },
  {
   "cell_type": "code",
   "execution_count": 12,
   "id": "7f32975d-54f9-4765-9718-20fa4d9da931",
   "metadata": {},
   "outputs": [
    {
     "name": "stdout",
     "output_type": "stream",
     "text": [
      "{'Kenya': 'Nairobi', 'Uganda': 'Kampala', 'Ghana': 'Accra', 'Ethiopia': 'Adis', 'Sudan': 'Khartoum', 'Angola': 'Sao Paulo'}\n"
     ]
    }
   ],
   "source": [
    "##Changing Vaues\n",
    "countries_dict[\"Angola\"] = \"Sao Paulo\"\n",
    "\n",
    "print(countries_dict)"
   ]
  },
  {
   "cell_type": "code",
   "execution_count": null,
   "id": "3e9ef84f-5155-47f1-a0c9-486e5bf6cfd9",
   "metadata": {},
   "outputs": [],
   "source": [
    "#"
   ]
  }
 ],
 "metadata": {
  "kernelspec": {
   "display_name": "Python [conda env:base] *",
   "language": "python",
   "name": "conda-base-py"
  },
  "language_info": {
   "codemirror_mode": {
    "name": "ipython",
    "version": 3
   },
   "file_extension": ".py",
   "mimetype": "text/x-python",
   "name": "python",
   "nbconvert_exporter": "python",
   "pygments_lexer": "ipython3",
   "version": "3.13.5"
  }
 },
 "nbformat": 4,
 "nbformat_minor": 5
}
