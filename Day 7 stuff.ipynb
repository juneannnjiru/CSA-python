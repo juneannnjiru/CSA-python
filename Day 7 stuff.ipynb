{
 "cells": [
  {
   "cell_type": "code",
   "execution_count": 3,
   "id": "db8fd173-60b8-4c92-937c-566ecfb22977",
   "metadata": {},
   "outputs": [
    {
     "name": "stdin",
     "output_type": "stream",
     "text": [
      "Enter a number that is less than 10  34\n",
      "Your number was greater than 10. Enter another number  576\n",
      "Your number was greater than 10. Enter another number  45\n",
      "Your number was greater than 10. Enter another number  34\n",
      "Your number was greater than 10. Enter another number  5\n"
     ]
    },
    {
     "name": "stdout",
     "output_type": "stream",
     "text": [
      "Finally a 5 is less than 10\n"
     ]
    }
   ],
   "source": [
    "# While loops\n",
    "\n",
    "number = int(input(\"Enter a number that is less than 10 \"))\n",
    "\n",
    "while number>=10:\n",
    "    number = int(input(\"Your number was greater than 10. Enter another number \"))\n",
    "print(f\"Finally a {number} is less than 10\")"
   ]
  },
  {
   "cell_type": "code",
   "execution_count": 3,
   "id": "bcb580df-7657-4d93-bd03-880062a1b739",
   "metadata": {},
   "outputs": [
    {
     "name": "stdin",
     "output_type": "stream",
     "text": [
      "Please enter a number.  12\n",
      "Enter another number.  23\n",
      "The sum of your numbers was less than a 100. Enter a new number.  34\n",
      "Enter another number.  98\n"
     ]
    },
    {
     "name": "stdout",
     "output_type": "stream",
     "text": [
      "Your total is now 132 which is greater than 100\n"
     ]
    }
   ],
   "source": [
    "# While loop to take new numbers untill their total is greater than a hundred\n",
    "\n",
    "numbers = []\n",
    "num1 = int(input(\"Please enter a number. \"))\n",
    "numbers +=[num1]\n",
    "num2 = int(input(\"Enter another number. \"))\n",
    "numbers +=[num2]\n",
    "\n",
    "total = sum(numbers)\n",
    "while total <100:\n",
    "    numbers = [] \n",
    "    num1 = int(input(\"The sum of your numbers was less than a 100. Enter a new number. \"))\n",
    "    numbers +=[num1]\n",
    "    num2 = int(input(\"Enter another number. \"))\n",
    "    numbers +=[num2]    \n",
    "    total = sum(numbers)\n",
    "print(f\"Your total is now {total} which is greater than 100\")"
   ]
  },
  {
   "cell_type": "code",
   "execution_count": 21,
   "id": "e7941520-4172-463c-ae61-37aa7841974a",
   "metadata": {},
   "outputs": [
    {
     "name": "stdout",
     "output_type": "stream",
     "text": [
      "[9, 2, 9, 8, 2]\n"
     ]
    }
   ],
   "source": [
    "#make a list of 5 random numbers between 1,10 inclusive\n",
    "\n",
    "import random\n",
    "random_numbers = []\n",
    "\n",
    "while len(random_numbers) <5:\n",
    "    random_numbers += [random.randint(1,10)]\n",
    "print(random_numbers)"
   ]
  },
  {
   "cell_type": "code",
   "execution_count": 29,
   "id": "04cfa1cb-e72f-408f-8d9a-ea1f9abaf84e",
   "metadata": {},
   "outputs": [],
   "source": [
    "temp = list(range(10,25))\n",
    "\n"
   ]
  },
  {
   "cell_type": "code",
   "execution_count": 30,
   "id": "7a9a4d26-2805-4b69-88f4-2bfd2399599a",
   "metadata": {},
   "outputs": [
    {
     "data": {
      "text/plain": [
       "[10, 11, 12, 13, 14, 15, 16, 17, 18, 19, 20, 21, 22, 23, 24]"
      ]
     },
     "execution_count": 30,
     "metadata": {},
     "output_type": "execute_result"
    }
   ],
   "source": [
    "temp"
   ]
  },
  {
   "cell_type": "code",
   "execution_count": 31,
   "id": "92e1497b-8463-4bb4-9000-7c8f0628f9a0",
   "metadata": {},
   "outputs": [
    {
     "data": {
      "text/plain": [
       "[22, 10, 21, 23, 19]"
      ]
     },
     "execution_count": 31,
     "metadata": {},
     "output_type": "execute_result"
    }
   ],
   "source": [
    "random.sample(temp,5)"
   ]
  },
  {
   "cell_type": "code",
   "execution_count": 26,
   "id": "6040b99f-8aa7-4446-ae68-806b9af73732",
   "metadata": {},
   "outputs": [],
   "source": [
    "c = [12,13]"
   ]
  },
  {
   "cell_type": "code",
   "execution_count": 24,
   "id": "b3a6689b-6f71-4bc9-94ff-8b3200d63aa6",
   "metadata": {},
   "outputs": [
    {
     "name": "stdout",
     "output_type": "stream",
     "text": [
      "[9, 6, 2, 1, 10]\n"
     ]
    }
   ],
   "source": [
    "#make a list of 5 unique random numbers between 1,10 inclusive\n",
    "import random\n",
    "t = []\n",
    "i = 0\n",
    "while i < 5:\n",
    "    x = random.randint(1,10)\n",
    "    if x not in t:\n",
    "        t.append(x)\n",
    "        i +=1\n",
    "print(t)"
   ]
  },
  {
   "cell_type": "code",
   "execution_count": null,
   "id": "57a927b6-89e6-4cde-a0de-b5bfe2b33d7e",
   "metadata": {},
   "outputs": [],
   "source": [
    "#Guessing game\n",
    "#write a program to generate a random number between 1,10. \n",
    "#you have to guess the number   \n",
    "#continue guessing until you are correct\n",
    "#After each guess, the program should tell you whther your guess is bigger or smaller\n",
    "\n",
    "#You have 3 guesses\n",
    "\n",
    "\n",
    "\n"
   ]
  },
  {
   "cell_type": "code",
   "execution_count": 1,
   "id": "0315c96b-3077-466c-b286-0904e167d281",
   "metadata": {},
   "outputs": [
    {
     "name": "stdin",
     "output_type": "stream",
     "text": [
      "Guess the number.  2\n"
     ]
    },
    {
     "name": "stdout",
     "output_type": "stream",
     "text": [
      "Your guess is smaller than the right answer\n"
     ]
    },
    {
     "name": "stdin",
     "output_type": "stream",
     "text": [
      "Guess the number.  9\n"
     ]
    },
    {
     "name": "stdout",
     "output_type": "stream",
     "text": [
      "Your guess is smaller than the right answer\n"
     ]
    },
    {
     "name": "stdin",
     "output_type": "stream",
     "text": [
      "Guess the number.  6\n"
     ]
    },
    {
     "name": "stdout",
     "output_type": "stream",
     "text": [
      "Your guess is smaller than the right answer\n"
     ]
    },
    {
     "name": "stdin",
     "output_type": "stream",
     "text": [
      "Guess the number.  8\n"
     ]
    },
    {
     "name": "stdout",
     "output_type": "stream",
     "text": [
      "Your guess is smaller than the right answer\n"
     ]
    },
    {
     "name": "stdin",
     "output_type": "stream",
     "text": [
      "Guess the number.  10\n"
     ]
    },
    {
     "name": "stdout",
     "output_type": "stream",
     "text": [
      "Well Done!! That is the right number\n"
     ]
    }
   ],
   "source": [
    "import random\n",
    "x = random.randint(1,10)\n",
    "guesses = 0\n",
    "guess = 0\n",
    "\n",
    "while guess != x:\n",
    "    guess = int(input(\"Guess the number. \"))\n",
    "    if guess < x:\n",
    "        print(\"Your guess is smaller than the right answer\")\n",
    "        guesses +=1\n",
    "    elif guess > x:\n",
    "        print(\"Your guess is larger than the right answer\")\n",
    "        guesses +=1\n",
    "    elif guess == x:\n",
    "        print(\"Well Done!! That is the right number\")\n",
    "        guesses +=1\n"
   ]
  },
  {
   "cell_type": "code",
   "execution_count": null,
   "id": "3e288b0a-cf64-43ea-876d-7ba26a4fcb83",
   "metadata": {},
   "outputs": [],
   "source": []
  }
 ],
 "metadata": {
  "kernelspec": {
   "display_name": "Python [conda env:base] *",
   "language": "python",
   "name": "conda-base-py"
  },
  "language_info": {
   "codemirror_mode": {
    "name": "ipython",
    "version": 3
   },
   "file_extension": ".py",
   "mimetype": "text/x-python",
   "name": "python",
   "nbconvert_exporter": "python",
   "pygments_lexer": "ipython3",
   "version": "3.13.5"
  }
 },
 "nbformat": 4,
 "nbformat_minor": 5
}
