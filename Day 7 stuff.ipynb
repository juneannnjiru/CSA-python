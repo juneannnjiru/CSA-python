{
 "cells": [
  {
   "cell_type": "code",
   "execution_count": 3,
   "id": "db8fd173-60b8-4c92-937c-566ecfb22977",
   "metadata": {},
   "outputs": [
    {
     "name": "stdin",
     "output_type": "stream",
     "text": [
      "Enter a number that is less than 10  34\n",
      "Your number was greater than 10. Enter another number  576\n",
      "Your number was greater than 10. Enter another number  45\n",
      "Your number was greater than 10. Enter another number  34\n",
      "Your number was greater than 10. Enter another number  5\n"
     ]
    },
    {
     "name": "stdout",
     "output_type": "stream",
     "text": [
      "Finally a 5 is less than 10\n"
     ]
    }
   ],
   "source": [
    "# While loops\n",
    "\n",
    "number = int(input(\"Enter a number that is less than 10 \"))\n",
    "\n",
    "while number>=10:\n",
    "    number = int(input(\"Your number was greater than 10. Enter another number \"))\n",
    "print(f\"Finally a {number} is less than 10\")"
   ]
  },
  {
   "cell_type": "code",
   "execution_count": 3,
   "id": "bcb580df-7657-4d93-bd03-880062a1b739",
   "metadata": {},
   "outputs": [
    {
     "name": "stdin",
     "output_type": "stream",
     "text": [
      "Please enter a number.  12\n",
      "Enter another number.  23\n",
      "The sum of your numbers was less than a 100. Enter a new number.  34\n",
      "Enter another number.  98\n"
     ]
    },
    {
     "name": "stdout",
     "output_type": "stream",
     "text": [
      "Your total is now 132 which is greater than 100\n"
     ]
    }
   ],
   "source": [
    "# While loop to take new numbers untill their total is greater than a hundred\n",
    "\n",
    "numbers = []\n",
    "num1 = int(input(\"Please enter a number. \"))\n",
    "numbers +=[num1]\n",
    "num2 = int(input(\"Enter another number. \"))\n",
    "numbers +=[num2]\n",
    "\n",
    "total = sum(numbers)\n",
    "while total <100:\n",
    "    numbers = [] \n",
    "    num1 = int(input(\"The sum of your numbers was less than a 100. Enter a new number. \"))\n",
    "    numbers +=[num1]\n",
    "    num2 = int(input(\"Enter another number. \"))\n",
    "    numbers +=[num2]    \n",
    "    total = sum(numbers)\n",
    "print(f\"Your total is now {total} which is greater than 100\")"
   ]
  },
  {
   "cell_type": "code",
   "execution_count": null,
   "id": "e7941520-4172-463c-ae61-37aa7841974a",
   "metadata": {},
   "outputs": [],
   "source": []
  }
 ],
 "metadata": {
  "kernelspec": {
   "display_name": "Python [conda env:base] *",
   "language": "python",
   "name": "conda-base-py"
  },
  "language_info": {
   "codemirror_mode": {
    "name": "ipython",
    "version": 3
   },
   "file_extension": ".py",
   "mimetype": "text/x-python",
   "name": "python",
   "nbconvert_exporter": "python",
   "pygments_lexer": "ipython3",
   "version": "3.13.5"
  }
 },
 "nbformat": 4,
 "nbformat_minor": 5
}
