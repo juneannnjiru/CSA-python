{
 "cells": [
  {
   "cell_type": "code",
   "execution_count": 1,
   "id": "276ad45f-b748-494f-b0bf-4573776d15f1",
   "metadata": {},
   "outputs": [
    {
     "name": "stdin",
     "output_type": "stream",
     "text": [
      "Enter the number  2\n"
     ]
    },
    {
     "name": "stdout",
     "output_type": "stream",
     "text": [
      "Number 2 is even\n"
     ]
    }
   ],
   "source": [
    "#If statements\n",
    "\n",
    "#Take a number a and returns if its an even number\n",
    "\n",
    "num = int(input(\"Enter the number \"))\n",
    "if num % 2 == 0:\n",
    "    print(f\"Number {num} is even\")\n",
    "else:\n",
    "    print(f\"Number {num} is not even\")"
   ]
  },
  {
   "cell_type": "code",
   "execution_count": 2,
   "id": "45a7eb6f-70fe-4a8b-a1b7-6f78ac5094ae",
   "metadata": {},
   "outputs": [
    {
     "name": "stdin",
     "output_type": "stream",
     "text": [
      "Enter the first number  45\n",
      "Enter the Second number  12\n"
     ]
    },
    {
     "name": "stdout",
     "output_type": "stream",
     "text": [
      "(45 is not divisibe by 12\n"
     ]
    }
   ],
   "source": [
    "# Takes two numbers and checks if the first is divisble by the second\n",
    "\n",
    "num1 = int(input(\"Enter the first number \"))\n",
    "num2 = int(input(\"Enter the Second number \"))\n",
    "\n",
    "if num1 % num2 == 0:\n",
    "    print(f\"{num1} is divisibe by {num2}\")\n",
    "else:\n",
    "    print(f\"({num1} is not divisibe by {num2}\")"
   ]
  },
  {
   "cell_type": "code",
   "execution_count": 3,
   "id": "0c8595b5-c124-47cc-a115-237dea6e6bf4",
   "metadata": {},
   "outputs": [
    {
     "name": "stdin",
     "output_type": "stream",
     "text": [
      "Enter your exam marks  12\n"
     ]
    },
    {
     "name": "stdout",
     "output_type": "stream",
     "text": [
      "You got an F!\n"
     ]
    }
   ],
   "source": [
    "# Takes an exam mark and decides the grade the student got\n",
    "marks = int(input(\"Enter your exam marks \"))\n",
    "        \n",
    "if marks > 75:\n",
    "    print(f\"You got an A!\")\n",
    "elif marks >=65:\n",
    "    print(\"You got a B!\")\n",
    "elif marks >= 55:\n",
    "    print(\"You got a C!\")\n",
    "elif marks >= 45:\n",
    "    print(\"You got a D!\")\n",
    "else:\n",
    "    print(\"You got an F!\")"
   ]
  },
  {
   "cell_type": "code",
   "execution_count": 4,
   "id": "852eedce-5abc-4f48-aaec-1f3faf107945",
   "metadata": {},
   "outputs": [
    {
     "name": "stdin",
     "output_type": "stream",
     "text": [
      "Enter your exam marks  12\n",
      "Enter your exam marks  34\n",
      "Enter your exam marks  54\n",
      "Enter your exam marks  87\n",
      "Enter your exam marks  23\n"
     ]
    },
    {
     "name": "stdout",
     "output_type": "stream",
     "text": [
      "[12, 34, 54, 87, 23]\n"
     ]
    }
   ],
   "source": [
    "# adding items to a list using append()\n",
    "marks = []\n",
    "for i in range(5):\n",
    "    mark = int(input(\"Enter your exam marks \"))\n",
    "    marks.append(mark)\n",
    "print(marks)         "
   ]
  },
  {
   "cell_type": "code",
   "execution_count": 5,
   "id": "280f9f26-ac4f-4c30-aab8-2d0fd401f449",
   "metadata": {},
   "outputs": [
    {
     "name": "stdin",
     "output_type": "stream",
     "text": [
      "Enter your exam marks  90\n",
      "Enter your exam marks  75\n",
      "Enter your exam marks  32\n",
      "Enter your exam marks  54\n",
      "Enter your exam marks  67\n"
     ]
    },
    {
     "name": "stdout",
     "output_type": "stream",
     "text": [
      "Your results are as follows [90, 75, 32, 54, 67]\n",
      "You got an A!\n",
      "You got a B!\n",
      "You got an F!\n",
      "You got a D!\n",
      "You got a B!\n"
     ]
    }
   ],
   "source": [
    "# Takes a list of exam marks and decides the grade the student got for each \n",
    "marks = []\n",
    "for i in range(5):\n",
    "    mark = int(input(\"Enter your exam marks \"))\n",
    "    marks.append(mark)\n",
    "print(f\"Your results are as follows {marks}\")\n",
    "for mark in marks:\n",
    "    if mark > 75:\n",
    "        print(f\"You got an A!\")\n",
    "    elif mark >=65:\n",
    "        print(\"You got a B!\")\n",
    "    elif mark >= 55:\n",
    "        print(\"You got a C!\")\n",
    "    elif mark >= 45:\n",
    "        print(\"You got a D!\")\n",
    "    else:\n",
    "        print(\"You got an F!\")"
   ]
  },
  {
   "cell_type": "code",
   "execution_count": 22,
   "id": "b40ce06c-5958-4bb5-af6c-bf383153f2c1",
   "metadata": {},
   "outputs": [
    {
     "name": "stdout",
     "output_type": "stream",
     "text": [
      "We're not there yet, You have to wait a while for the weekend\n"
     ]
    }
   ],
   "source": [
    "# A function that takes a day of the week and returns if it is a weekend\n",
    "\n",
    "def weekend(day):\n",
    "    if day == \"Saturday\" or day == \"Sunday\":\n",
    "        print(\"Its the weekend!!!\")\n",
    "    elif day == \"Monday\" or day == \"Tuesday\" or day == \"Wednesday\":\n",
    "        print(\"We're not there yet, You have to wait a while for the weekend\")\n",
    "    else:\n",
    "        print(\"The weekend is just around the corner, you have to wait just a little while longer!\")\n",
    "\n",
    "weekend('Tuesday') "
   ]
  },
  {
   "cell_type": "code",
   "execution_count": 7,
   "id": "0713b912-309c-43e4-b5e1-1e229926c6bc",
   "metadata": {},
   "outputs": [
    {
     "name": "stdin",
     "output_type": "stream",
     "text": [
      "What day is is?  Saturday\n"
     ]
    },
    {
     "name": "stdout",
     "output_type": "stream",
     "text": [
      "Its the weekend!!!\n"
     ]
    }
   ],
   "source": [
    "# Takes a day of the week and returns if it is a weekend\n",
    "day = input(\"What day is is? \")\n",
    "if day == \"Saturday\" or day == \"Sunday\":\n",
    "    print(\"Its the weekend!!!\")\n",
    "else:\n",
    "    print(\"Its not the weekend\")    "
   ]
  },
  {
   "cell_type": "code",
   "execution_count": 12,
   "id": "cbdcedd2-56e2-48cd-b1ca-3a6fb47dd83f",
   "metadata": {},
   "outputs": [
    {
     "name": "stdin",
     "output_type": "stream",
     "text": [
      "Please enter your birthday in the fomat dd/mm  12/06\n"
     ]
    },
    {
     "name": "stdout",
     "output_type": "stream",
     "text": [
      "Bruh,Chill! Its not your bithday\n"
     ]
    }
   ],
   "source": [
    "# Takes your birthday and returns if its today\n",
    "today = \"21/07\"\n",
    "date = input(\"Please enter your birthday in the fomat dd/mm \")\n",
    "if date == today:\n",
    "    print(\"Happy Birthday!!\")\n",
    "else:\n",
    "    print(\"Bruh,Chill! Its not your bithday\")\n"
   ]
  },
  {
   "cell_type": "code",
   "execution_count": 16,
   "id": "eebfc7d2-4b55-4411-99c0-591e2dd9f316",
   "metadata": {},
   "outputs": [
    {
     "name": "stdin",
     "output_type": "stream",
     "text": [
      "enter the year   1900\n"
     ]
    },
    {
     "name": "stdout",
     "output_type": "stream",
     "text": [
      "Not a leap year\n"
     ]
    }
   ],
   "source": [
    "# Works out if year is leap year\n",
    "year = int(input(\"enter the year  \"))\n",
    "\n",
    "if year % 4 == 0:\n",
    "    if year % 100 ==0:\n",
    "        if year % 400 == 0:\n",
    "            print(\"leap year\")\n",
    "        else:\n",
    "            print(\"Not a leap year\")\n",
    "    else:\n",
    "        print(\"leap year\")\n",
    "else:\n",
    "    print(\"Not a leap year\")"
   ]
  },
  {
   "cell_type": "code",
   "execution_count": 18,
   "id": "35cb3d05-dd03-4fc9-a758-b8592adacd8e",
   "metadata": {},
   "outputs": [
    {
     "name": "stdin",
     "output_type": "stream",
     "text": [
      "Enter Player 1's choice choice (rock, paper or scissors)  rock\n",
      "Enter Player 2's choice (rock, paper or scissors)  paper\n"
     ]
    },
    {
     "name": "stdout",
     "output_type": "stream",
     "text": [
      "Player 2 wins\n"
     ]
    }
   ],
   "source": [
    "# Program that determines winner in a rock paper scissors\n",
    "\n",
    "player1 = input(\"Enter Player 1's choice choice (rock, paper or scissors) \")\n",
    "player2 = input(\"Enter Player 2's choice (rock, paper or scissors) \")\n",
    "\n",
    "if player1 == 'rock' and player2 == 'scissors' :\n",
    "    print(\"Player 1 wins\")\n",
    "elif player1 == 'paper' and player2 == 'rock':\n",
    "    print(\"Player 1 wins\")\n",
    "elif player1 == 'scissors' and player2 == 'paper':\n",
    "    print(\"Player 1 wins\")\n",
    "elif player1 == player2:\n",
    "    print(\"It's a draw\")\n",
    "else:\n",
    "    print(\"Player 2 wins\")"
   ]
  },
  {
   "cell_type": "code",
   "execution_count": 5,
   "id": "6f3fdb15-29a5-47e5-af7b-c18b2f95fb61",
   "metadata": {},
   "outputs": [
    {
     "name": "stdin",
     "output_type": "stream",
     "text": [
      "Enter Player 1's choice choice (rock, paper or scissors)  paper\n"
     ]
    },
    {
     "name": "stdout",
     "output_type": "stream",
     "text": [
      "Computer chose paper\n",
      "It's a draw \n",
      "\n"
     ]
    },
    {
     "name": "stdin",
     "output_type": "stream",
     "text": [
      "Enter Player 1's choice choice (rock, paper or scissors)  paper\n"
     ]
    },
    {
     "name": "stdout",
     "output_type": "stream",
     "text": [
      "Computer chose rock\n",
      "You win \n",
      "\n"
     ]
    },
    {
     "name": "stdin",
     "output_type": "stream",
     "text": [
      "Enter Player 1's choice choice (rock, paper or scissors)  paper\n"
     ]
    },
    {
     "name": "stdout",
     "output_type": "stream",
     "text": [
      "Computer chose paper\n",
      "It's a draw \n",
      "\n"
     ]
    },
    {
     "name": "stdin",
     "output_type": "stream",
     "text": [
      "Enter Player 1's choice choice (rock, paper or scissors)  paper\n"
     ]
    },
    {
     "name": "stdout",
     "output_type": "stream",
     "text": [
      "Computer chose scissors\n",
      "You lose \n",
      "\n"
     ]
    },
    {
     "name": "stdin",
     "output_type": "stream",
     "text": [
      "Enter Player 1's choice choice (rock, paper or scissors)  paper\n"
     ]
    },
    {
     "name": "stdout",
     "output_type": "stream",
     "text": [
      "Computer chose scissors\n",
      "You lose \n",
      "\n"
     ]
    },
    {
     "name": "stdin",
     "output_type": "stream",
     "text": [
      "Enter Player 1's choice choice (rock, paper or scissors)  paper\n"
     ]
    },
    {
     "name": "stdout",
     "output_type": "stream",
     "text": [
      "Computer chose scissors\n",
      "You lose \n",
      "\n"
     ]
    },
    {
     "name": "stdin",
     "output_type": "stream",
     "text": [
      "Enter Player 1's choice choice (rock, paper or scissors)  paper\n"
     ]
    },
    {
     "name": "stdout",
     "output_type": "stream",
     "text": [
      "Computer chose paper\n",
      "It's a draw \n",
      "\n"
     ]
    },
    {
     "name": "stdin",
     "output_type": "stream",
     "text": [
      "Enter Player 1's choice choice (rock, paper or scissors)  paper\n"
     ]
    },
    {
     "name": "stdout",
     "output_type": "stream",
     "text": [
      "Computer chose scissors\n",
      "You lose \n",
      "\n"
     ]
    },
    {
     "name": "stdin",
     "output_type": "stream",
     "text": [
      "Enter Player 1's choice choice (rock, paper or scissors)  rock\n"
     ]
    },
    {
     "name": "stdout",
     "output_type": "stream",
     "text": [
      "Computer chose rock\n",
      "It's a draw \n",
      "\n"
     ]
    },
    {
     "name": "stdin",
     "output_type": "stream",
     "text": [
      "Enter Player 1's choice choice (rock, paper or scissors)  rock\n"
     ]
    },
    {
     "name": "stdout",
     "output_type": "stream",
     "text": [
      "Computer chose rock\n",
      "It's a draw \n",
      "\n"
     ]
    },
    {
     "name": "stdin",
     "output_type": "stream",
     "text": [
      "Enter Player 1's choice choice (rock, paper or scissors)  scissors\n"
     ]
    },
    {
     "name": "stdout",
     "output_type": "stream",
     "text": [
      "Computer chose scissors\n",
      "It's a draw \n",
      "\n"
     ]
    },
    {
     "name": "stdin",
     "output_type": "stream",
     "text": [
      "Enter Player 1's choice choice (rock, paper or scissors)  rock\n"
     ]
    },
    {
     "name": "stdout",
     "output_type": "stream",
     "text": [
      "Computer chose scissors\n",
      "You win \n",
      "\n",
      "Overal winner - Computer!! \n",
      "    Computer won 4 times and you won 2 times!\n"
     ]
    }
   ],
   "source": [
    "# Program that plays rock paper scissors (player against computer)\n",
    " \n",
    "import random as r \n",
    "choices = ['rock', 'paper', 'scissors']\n",
    "\n",
    "computer_wins = 0\n",
    "player_wins = 0\n",
    "while player_wins < 2:\n",
    "    \n",
    "    computer_choice = r.choice(choices)\n",
    "    player1 = input(\"Enter Player 1's choice choice (rock, paper or scissors) \")\n",
    "    \n",
    "    print(f\"Computer chose {computer_choice}\")\n",
    "    \n",
    "    if (player1 == 'rock' and computer_choice == 'scissors') or \\\n",
    "    (player1 == 'paper' and computer_choice == 'rock') or \\\n",
    "    (player1 == 'scissors' and computer_choice == 'paper'):\n",
    "        print(\"You win \\n\")\n",
    "        player_wins += 1\n",
    "    elif player1 == computer_choice:\n",
    "        print(\"It's a draw \\n\")\n",
    "    else:\n",
    "        print(\"You lose \\n\")\n",
    "        computer_wins += 1\n",
    "        \n",
    "if computer_wins < player_wins:\n",
    "    print(f\"\"\"Overal winner - Player!! \n",
    "    You won {player_wins} times and Computer won {computer_wins} times!\"\"\")\n",
    "elif computer_wins > player_wins:\n",
    "    print(f\"\"\"Overal winner - Computer!! \n",
    "    Computer won {computer_wins} times and you won {player_wins} times!\"\"\")\n",
    "else:\n",
    "    print(f\"\"\"Its a draw. \n",
    "    Computer won {computer_wins} times and you won {player_wins} times!\"\"\")"
   ]
  },
  {
   "cell_type": "code",
   "execution_count": 9,
   "id": "e5e1e366-843d-460a-904f-c0da56585275",
   "metadata": {},
   "outputs": [
    {
     "data": {
      "text/plain": [
       "61"
      ]
     },
     "execution_count": 9,
     "metadata": {},
     "output_type": "execute_result"
    }
   ],
   "source": [
    "#find maximum number in a list\n",
    "nums = [23, 54, 31, 22, 61, 45, 12]\n",
    "\n",
    "def max_list(nums):\n",
    "    maxn = nums[0]\n",
    "    for n in nums:\n",
    "        if n > maxn:\n",
    "            maxn = n\n",
    "    return maxn\n",
    "\n",
    "max_list(nums)"
   ]
  },
  {
   "cell_type": "code",
   "execution_count": 15,
   "id": "53aa74c6-0e8f-4f48-8392-273823a43c5c",
   "metadata": {},
   "outputs": [
    {
     "data": {
      "text/plain": [
       "12"
      ]
     },
     "execution_count": 15,
     "metadata": {},
     "output_type": "execute_result"
    }
   ],
   "source": [
    "#find minimum number in a list\n",
    "nums = [23, 54, 31, 22, 61, 45, 12]\n",
    "def min_list(nums):\n",
    "    minn = nums[0]\n",
    "    for n in nums:\n",
    "        if n < minn:\n",
    "            minn = n\n",
    "    return minn\n",
    "\n",
    "min_list(nums)"
   ]
  },
  {
   "cell_type": "code",
   "execution_count": 21,
   "id": "a3c02e59-3a73-46a9-8610-630f87de650f",
   "metadata": {},
   "outputs": [
    {
     "data": {
      "text/plain": [
       "2"
      ]
     },
     "execution_count": 21,
     "metadata": {},
     "output_type": "execute_result"
    }
   ],
   "source": [
    "nums.count(61)\n"
   ]
  },
  {
   "cell_type": "code",
   "execution_count": 24,
   "id": "01f84d73-141f-45b8-9aa9-ff2b07a669e2",
   "metadata": {},
   "outputs": [
    {
     "name": "stdout",
     "output_type": "stream",
     "text": [
      "True\n",
      "True\n"
     ]
    },
    {
     "data": {
      "text/plain": [
       "False"
      ]
     },
     "execution_count": 24,
     "metadata": {},
     "output_type": "execute_result"
    }
   ],
   "source": [
    "#check if a number is in a list\n",
    "nums = [23, 54, 31, 22, 61, 45, 12,61]\n",
    "compare = int(input\n",
    "for num in nums:\n",
    "    if 61 == num:\n",
    "        print(True)\n",
    "\n"
   ]
  },
  {
   "cell_type": "code",
   "execution_count": null,
   "id": "c87ecdc3-4528-4be1-94b0-1b6d819c621d",
   "metadata": {},
   "outputs": [],
   "source": []
  }
 ],
 "metadata": {
  "kernelspec": {
   "display_name": "Python [conda env:base] *",
   "language": "python",
   "name": "conda-base-py"
  },
  "language_info": {
   "codemirror_mode": {
    "name": "ipython",
    "version": 3
   },
   "file_extension": ".py",
   "mimetype": "text/x-python",
   "name": "python",
   "nbconvert_exporter": "python",
   "pygments_lexer": "ipython3",
   "version": "3.13.5"
  }
 },
 "nbformat": 4,
 "nbformat_minor": 5
}
