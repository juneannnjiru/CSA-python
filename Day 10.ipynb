{
 "cells": [
  {
   "cell_type": "code",
   "execution_count": 1,
   "id": "c67235c0-bf5b-4ec1-a19f-879f34501fec",
   "metadata": {},
   "outputs": [
    {
     "name": "stdout",
     "output_type": "stream",
     "text": [
      "Nairobi\n",
      "Glasgow\n",
      "Lagos\n",
      "Dublin\n"
     ]
    }
   ],
   "source": [
    "airports = {\"NBO\":\"Nairobi\",\"GLA\":\"Glasgow\",\"MMIA\":\"Lagos\",\n",
    "            \"DUB\":\"Dublin\"}\n",
    "\n",
    "for airport in airports:\n",
    "    print(airports[airport])"
   ]
  },
  {
   "cell_type": "code",
   "execution_count": 2,
   "id": "643aca5b-8338-436d-ba22-342a68b2057f",
   "metadata": {},
   "outputs": [
    {
     "name": "stdout",
     "output_type": "stream",
     "text": [
      "NBO\n",
      "GLA\n",
      "MMIA\n",
      "DUB\n"
     ]
    }
   ],
   "source": [
    "airports = {\"NBO\":\"Nairobi\",\"GLA\":\"Glasgow\",\"MMIA\":\"Lagos\",\n",
    "            \"DUB\":\"Dublin\"}\n",
    "\n",
    "for airport in airports:\n",
    "    print(airport)"
   ]
  },
  {
   "cell_type": "code",
   "execution_count": 3,
   "id": "4aaa6865-7d6e-4ecc-b679-11971cbe1f7f",
   "metadata": {},
   "outputs": [
    {
     "name": "stdout",
     "output_type": "stream",
     "text": [
      "MMIA\n"
     ]
    }
   ],
   "source": [
    "airports = {\"NBO\":\"Nairobi\",\"GLA\":\"Glasgow\",\"MMIA\":\"Lagos\",\n",
    "            \"DUB\":\"Dublin\"}\n",
    "\n",
    "for airport in airports:\n",
    "    if airports[airport] == \"Lagos\":\n",
    "        print(airport)"
   ]
  },
  {
   "cell_type": "code",
   "execution_count": 39,
   "id": "3734d65d-e8cd-49d6-ab78-1439eedc0528",
   "metadata": {},
   "outputs": [
    {
     "name": "stdin",
     "output_type": "stream",
     "text": [
      "Enter Player 1's choice choice (rock, paper or scissors)  score\n"
     ]
    },
    {
     "name": "stdout",
     "output_type": "stream",
     "text": [
      "Computer chose rock\n",
      "You lose \n",
      "\n"
     ]
    },
    {
     "name": "stdin",
     "output_type": "stream",
     "text": [
      "Enter Player 1's choice choice (rock, paper or scissors)  paper\n"
     ]
    },
    {
     "name": "stdout",
     "output_type": "stream",
     "text": [
      "Computer chose paper\n",
      "It's a draw \n",
      "\n"
     ]
    },
    {
     "name": "stdin",
     "output_type": "stream",
     "text": [
      "Enter Player 1's choice choice (rock, paper or scissors)  paper\n"
     ]
    },
    {
     "name": "stdout",
     "output_type": "stream",
     "text": [
      "Computer chose paper\n",
      "It's a draw \n",
      "\n",
      "Overal winner - Computer!! \n",
      "    Computer won 1 times and you won 0 times!\n"
     ]
    }
   ],
   "source": [
    "# Program that plays rock paper scissors (player against computer)\n",
    " \n",
    "import random as r \n",
    "choices = ['rock', 'paper', 'scissors']\n",
    "\n",
    "computer_wins = 0\n",
    "player_wins = 0\n",
    "rounds = 0\n",
    "while rounds < 3:\n",
    "    \n",
    "    computer_choice = r.choice(choices)\n",
    "    player1 = input(\"Enter Player 1's choice choice (rock, paper or scissors) \")\n",
    "    \n",
    "    print(f\"Computer chose {computer_choice}\")\n",
    "    \n",
    "    if (player1 == 'rock' and computer_choice == 'scissors') or \\\n",
    "    (player1 == 'paper' and computer_choice == 'rock') or \\\n",
    "    (player1 == 'scissors' and computer_choice == 'paper'):\n",
    "        print(\"You win \\n\")\n",
    "        player_wins += 1\n",
    "        rounds +=1\n",
    "    elif player1 == computer_choice:\n",
    "        print(\"It's a draw \\n\")\n",
    "        rounds +=1\n",
    "    else:\n",
    "        print(\"You lose \\n\")\n",
    "        computer_wins += 1\n",
    "        rounds +=1\n",
    "        \n",
    "if computer_wins < player_wins:\n",
    "    print(f\"\"\"Overal winner - Player!! \n",
    "    You won {player_wins} times and Computer won {computer_wins} times!\"\"\")\n",
    "elif computer_wins > player_wins:\n",
    "    print(f\"\"\"Overal winner - Computer!! \n",
    "    Computer won {computer_wins} times and you won {player_wins} times!\"\"\")\n",
    "else:\n",
    "    print(f\"\"\"Its a draw. \n",
    "    Computer won {computer_wins} times and you won {player_wins} times!\"\"\")"
   ]
  },
  {
   "cell_type": "code",
   "execution_count": 17,
   "id": "8b52bbbc-1684-4186-ae4a-b2b718adcd9f",
   "metadata": {},
   "outputs": [],
   "source": [
    "winner = {\"rock\":\"scissors\", \"scissors\":\"paper\", \"paper\":\"rock\"}\n"
   ]
  },
  {
   "cell_type": "code",
   "execution_count": 19,
   "id": "18bad9ce-267a-479a-9568-1dd68f8b93a6",
   "metadata": {},
   "outputs": [
    {
     "name": "stdin",
     "output_type": "stream",
     "text": [
      "Enter Player 1's choice choice (rock, paper or scissors)  paper\n"
     ]
    },
    {
     "name": "stdout",
     "output_type": "stream",
     "text": [
      "Computer chose scissors\n",
      "You lose \n",
      "\n"
     ]
    },
    {
     "name": "stdin",
     "output_type": "stream",
     "text": [
      "Enter Player 1's choice choice (rock, paper or scissors)  rock\n"
     ]
    },
    {
     "name": "stdout",
     "output_type": "stream",
     "text": [
      "Computer chose scissors\n",
      "You win \n",
      "\n"
     ]
    },
    {
     "name": "stdin",
     "output_type": "stream",
     "text": [
      "Enter Player 1's choice choice (rock, paper or scissors)  rock\n"
     ]
    },
    {
     "name": "stdout",
     "output_type": "stream",
     "text": [
      "Computer chose paper\n",
      "You lose \n",
      "\n",
      "Overal winner - Computer!! \n",
      "    Computer won 2 times and you won 1 times!\n"
     ]
    }
   ],
   "source": [
    "import random as r \n",
    "winner = {\"rock\":\"scissors\", \"scissors\":\"paper\", \"paper\":\"rock\"}\n",
    "\n",
    "computer_wins = 0\n",
    "player_wins = 0\n",
    "rounds = 0\n",
    "while rounds < 3:\n",
    "    \n",
    "    computer_choice = r.choice(choices)\n",
    "    player1 = input(\"Enter Player 1's choice choice (rock, paper or scissors) \")\n",
    "    \n",
    "    print(f\"Computer chose {computer_choice}\")\n",
    "    \n",
    "    if (player1 == 'rock' and computer_choice == winner[player1]):\n",
    "        print(\"You win \\n\")\n",
    "        player_wins += 1\n",
    "        rounds +=1\n",
    "    elif player1 == computer_choice:\n",
    "        print(\"It's a draw \\n\")\n",
    "        rounds +=1\n",
    "    else:\n",
    "        print(\"You lose \\n\")\n",
    "        computer_wins += 1\n",
    "        rounds +=1\n",
    "        \n",
    "if computer_wins < player_wins:\n",
    "    print(f\"\"\"Overal winner - Player!! \n",
    "    You won {player_wins} times and Computer won {computer_wins} times!\"\"\")\n",
    "elif computer_wins > player_wins:\n",
    "    print(f\"\"\"Overal winner - Computer!! \n",
    "    Computer won {computer_wins} times and you won {player_wins} times!\"\"\")\n",
    "else:\n",
    "    print(f\"\"\"Its a draw. \n",
    "    Computer won {computer_wins} times and you won {player_wins} times!\"\"\")"
   ]
  },
  {
   "cell_type": "code",
   "execution_count": null,
   "id": "05841659-b896-465c-a485-33464500e179",
   "metadata": {},
   "outputs": [],
   "source": []
  },
  {
   "cell_type": "code",
   "execution_count": null,
   "id": "467b1fdc-4b5c-4dde-b666-26a35ec4c012",
   "metadata": {},
   "outputs": [],
   "source": []
  },
  {
   "cell_type": "code",
   "execution_count": 1,
   "id": "b59656a8-68de-4d2e-a098-49ae711358d4",
   "metadata": {},
   "outputs": [],
   "source": [
    "reverse_ages = {30:[\"Stephen\"], 21:[\"Sofiat\", \"Orla\", \"Grace\"]}"
   ]
  },
  {
   "cell_type": "code",
   "execution_count": 22,
   "id": "15fefc55-943a-448b-b7e7-d7b74547b985",
   "metadata": {},
   "outputs": [
    {
     "name": "stdout",
     "output_type": "stream",
     "text": [
      "30 ['Stephen']\n",
      "Stephen is 30 years old\n",
      "21 ['Sofiat', 'Orla', 'Grace']\n",
      "Sofiat is 21 years old\n",
      "Orla is 21 years old\n",
      "Grace is 21 years old\n"
     ]
    }
   ],
   "source": [
    "for age in reverse_ages:\n",
    "    print(age, reverse_ages[age])\n",
    "    for name in reverse_ages[age]:\n",
    "        print(f\"{name} is {age} years old\")"
   ]
  },
  {
   "cell_type": "code",
   "execution_count": 2,
   "id": "a812d4d1-06e6-48d1-8176-fd3e5cb0f7eb",
   "metadata": {},
   "outputs": [
    {
     "name": "stdout",
     "output_type": "stream",
     "text": [
      "dict_keys([30, 21])\n",
      "dict_values([['Stephen'], ['Sofiat', 'Orla', 'Grace']])\n",
      "dict_items([(30, ['Stephen']), (21, ['Sofiat', 'Orla', 'Grace'])])\n"
     ]
    }
   ],
   "source": [
    "print(reverse_ages.keys())\n",
    "print(reverse_ages.values())\n",
    "print(reverse_ages.items())"
   ]
  },
  {
   "cell_type": "code",
   "execution_count": 3,
   "id": "bfb0b95b-2c09-4f43-8f1f-19765054653d",
   "metadata": {},
   "outputs": [
    {
     "name": "stdout",
     "output_type": "stream",
     "text": [
      "30\n"
     ]
    }
   ],
   "source": [
    "for age,namelist in reverse_ages.items():\n",
    "    if \"Stephen\" in namelist:\n",
    "        print(age)"
   ]
  },
  {
   "cell_type": "code",
   "execution_count": 44,
   "id": "d9492a53-e53e-46e5-b413-ab5f289c4f21",
   "metadata": {},
   "outputs": [
    {
     "name": "stdout",
     "output_type": "stream",
     "text": [
      "{'Sofiat': {'subject': 'Machine Learning', 'age': 25, 'city': 'Laos', 'marks': [23, 65, 42, 78]}, 'Stephen': {'subject': 'Software Engineering', 'age': 30, 'city': 'St Andrews', 'marks': [87, 95, 45]}, 'Kenniche': {'subject': 'Data Science', 'age': 42, 'city': 'Glasgow', 'marks': [31, 45, 27, 11]}, 'Fionnuala': {'subject': 'Fundamentals', 'age': 100, 'city': 'Dublin', 'marks': [37, 62, 18, 22, 36]}}\n"
     ]
    }
   ],
   "source": [
    "with open(\"Dictionary_files/tutor_info.txt\") as f:\n",
    "    tutor_data = {}\n",
    "    exams = []\n",
    "    for line in f:\n",
    "        clean = line.strip()\n",
    "        data = clean.split(\",\")\n",
    "        #print(data[4].split(\" \"))\n",
    "        info = {}\n",
    "        info[\"subject\"] = data[1]\n",
    "        info[\"age\"] = int(data[2])\n",
    "        info[\"city\"] = data[3]\n",
    "        # info[\"marks\"] = exams.append(int([data[4].split(\" \")]))\n",
    "        exam_str = data[4].split(\" \")\n",
    "        exams = []\n",
    "        for result in exam_str:\n",
    "            exams.append(int(result))\n",
    "        info[\"marks\"] = exams\n",
    "\n",
    "        tutor_data[data[0]] = info\n",
    "\n",
    "print(tutor_data)"
   ]
  },
  {
   "cell_type": "code",
   "execution_count": 45,
   "id": "77086c24-0018-4b50-95f1-786e0da47578",
   "metadata": {},
   "outputs": [
    {
     "name": "stdout",
     "output_type": "stream",
     "text": [
      "Sofiat {'subject': 'Machine Learning', 'age': 25, 'city': 'Laos', 'marks': [23, 65, 42, 78]}\n",
      "Stephen {'subject': 'Software Engineering', 'age': 30, 'city': 'St Andrews', 'marks': [87, 95, 45]}\n",
      "Kenniche {'subject': 'Data Science', 'age': 42, 'city': 'Glasgow', 'marks': [31, 45, 27, 11]}\n",
      "Fionnuala {'subject': 'Fundamentals', 'age': 100, 'city': 'Dublin', 'marks': [37, 62, 18, 22, 36]}\n"
     ]
    }
   ],
   "source": [
    "for tutor in tutor_data:\n",
    "    print(tutor, tutor_data[tutor])"
   ]
  },
  {
   "cell_type": "code",
   "execution_count": 44,
   "id": "d8d5f56c-bcc0-408c-97f4-0e89f8312ffe",
   "metadata": {},
   "outputs": [
    {
     "name": "stdout",
     "output_type": "stream",
     "text": [
      "{'Kenya': {'city': 'Nairobi', 'population': '52.5', 'currency': 'Kenyan shilling', 'size': '580367', 'temperatures': [23.2, 23.7, 23.4, 22.9, 22.6, 22.4, 22.0, 22.2, 22.6, 22.6, 22.5, 22.7]}, 'Nigeria': {'city': 'Abuja', 'population': '236.8', 'currency': 'Naira', 'size': '923769', 'temperatures': [23.2, 23.7, 23.4, 22.9, 22.6, 22.4, 22.0, 22.2, 22.6, 22.6, 22.5, 22.7]}, 'Rwanda': {'city': 'Kigali', 'population': '13.6', 'currency': 'Rwandan franc', 'size': '26798', 'temperatures': [23.2, 23.7, 23.4, 22.9, 22.6, 22.4, 22.0, 22.2, 22.6, 22.6, 22.5, 22.7]}, 'Uganda': {'city': 'Kampala', 'population': '24.3', 'currency': 'Ugandan shilling', 'size': '241038', 'temperatures': [23.2, 23.7, 23.4, 22.9, 22.6, 22.4, 22.0, 22.2, 22.6, 22.6, 22.5, 22.7]}}\n"
     ]
    }
   ],
   "source": [
    "with open(\"Dictionary_files/Country_info.txt\") as g:\n",
    "    country_data = {}\n",
    "    for line in g:\n",
    "        clean = line.strip()\n",
    "        token = clean.split(\":\")\n",
    "\n",
    "        \n",
    "  \n",
    "        new_token = token[1].split(\",\")\n",
    "       \n",
    "        info = {}\n",
    "        info[\"city\"] = new_token[0]\n",
    "        info[\"population\"] = (new_token[1])\n",
    "        info[\"currency\"] = new_token[2]\n",
    "        info[\"size\"] = new_token[3]\n",
    "\n",
    "\n",
    "        temp_str = data[4].split(\" \")\n",
    "        temp_list = []\n",
    "        for t in temp_str:\n",
    "            temp_list.append(float(t))\n",
    "\n",
    "\n",
    "        info[\"temperatures\"] = temp_list\n",
    "\n",
    "        country_data[token[0]] = info\n",
    "    print(country_data)"
   ]
  },
  {
   "cell_type": "code",
   "execution_count": null,
   "id": "56ac2878-12d2-408c-982f-b1af3089fea9",
   "metadata": {},
   "outputs": [],
   "source": []
  }
 ],
 "metadata": {
  "kernelspec": {
   "display_name": "Python [conda env:base] *",
   "language": "python",
   "name": "conda-base-py"
  },
  "language_info": {
   "codemirror_mode": {
    "name": "ipython",
    "version": 3
   },
   "file_extension": ".py",
   "mimetype": "text/x-python",
   "name": "python",
   "nbconvert_exporter": "python",
   "pygments_lexer": "ipython3",
   "version": "3.13.5"
  }
 },
 "nbformat": 4,
 "nbformat_minor": 5
}
