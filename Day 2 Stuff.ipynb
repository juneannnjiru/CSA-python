{
 "cells": [
  {
   "cell_type": "code",
   "execution_count": 10,
   "id": "93ecd867-a538-4b50-b877-e4e2aede58ff",
   "metadata": {},
   "outputs": [
    {
     "name": "stdin",
     "output_type": "stream",
     "text": [
      "Enter first number  12\n",
      "Enter second number  12\n"
     ]
    },
    {
     "name": "stdout",
     "output_type": "stream",
     "text": [
      "x+y=  1212\n"
     ]
    }
   ],
   "source": [
    "x = input(\"Enter first number \")\n",
    "y = input(\"Enter second number \")\n",
    "x = int(x)\n",
    "y = int(y)\n",
    "print(\"x+y= \", x+y)"
   ]
  },
  {
   "cell_type": "code",
   "execution_count": 7,
   "id": "c39280d6-56eb-44ff-a127-a1eeca8b8bfa",
   "metadata": {},
   "outputs": [
    {
     "name": "stdout",
     "output_type": "stream",
     "text": [
      "19\n"
     ]
    }
   ],
   "source": [
    "print(12+7)"
   ]
  },
  {
   "cell_type": "code",
   "execution_count": 11,
   "id": "a28925a3-a5ca-42ae-9dd4-07787f40d80a",
   "metadata": {},
   "outputs": [
    {
     "name": "stdin",
     "output_type": "stream",
     "text": [
      "Enter first number  12\n",
      "Enter second number  12\n"
     ]
    },
    {
     "name": "stdout",
     "output_type": "stream",
     "text": [
      "x+y=  24\n"
     ]
    }
   ],
   "source": [
    "x = int(input(\"Enter first number \"))\n",
    "y = int(input(\"Enter second number \"))\n",
    "\n",
    "print(\"x+y= \", x+y)"
   ]
  },
  {
   "cell_type": "code",
   "execution_count": 1,
   "id": "3e3c7d07-343d-4a09-8820-02566877cfc0",
   "metadata": {},
   "outputs": [
    {
     "name": "stdin",
     "output_type": "stream",
     "text": [
      "Please enter your first name  Blue\n"
     ]
    },
    {
     "name": "stdout",
     "output_type": "stream",
     "text": [
      "Hello Blue. \n",
      " Welcome!!\n"
     ]
    },
    {
     "name": "stdin",
     "output_type": "stream",
     "text": [
      "What year were you born? 2000\n"
     ]
    },
    {
     "name": "stdout",
     "output_type": "stream",
     "text": [
      "You are 25 years old this year\n"
     ]
    }
   ],
   "source": [
    "name = input(\"Please enter your first name \")\n",
    "print(\"Hello\", name +\". \\nWelcome!!\")\n",
    "year = int(input(\"What year were you born?\"))\n",
    "age = 2025 - year\n",
    "print(\"You are\", age, \"years old this year\") "
   ]
  },
  {
   "cell_type": "code",
   "execution_count": 20,
   "id": "93bf98f6-757b-4dea-a513-916424ff54c4",
   "metadata": {},
   "outputs": [
    {
     "name": "stdin",
     "output_type": "stream",
     "text": [
      "Enter first number  12\n",
      "Enter second number  12\n"
     ]
    },
    {
     "name": "stdout",
     "output_type": "stream",
     "text": [
      "x+y=  24.0\n"
     ]
    }
   ],
   "source": [
    "x = float(input(\"Enter first number \"))\n",
    "y = float(input(\"Enter second number \"))\n",
    "\n",
    "print(\"x+y= \", x+y)"
   ]
  },
  {
   "cell_type": "code",
   "execution_count": 18,
   "id": "b4437882-047d-4088-a3a8-781fc20eec00",
   "metadata": {},
   "outputs": [
    {
     "name": "stdin",
     "output_type": "stream",
     "text": [
      "Enter first number  12.45\n",
      "Enter second number  12\n"
     ]
    },
    {
     "name": "stdout",
     "output_type": "stream",
     "text": [
      "x+y=  24.45\n"
     ]
    }
   ],
   "source": [
    "x = float(input(\"Enter first number \"))\n",
    "y = float(input(\"Enter second number \"))\n",
    "\n",
    "print(\"x+y= \", x+y)"
   ]
  },
  {
   "cell_type": "code",
   "execution_count": 27,
   "id": "a5541ec5-c564-4bf8-81da-e879b14ca7ae",
   "metadata": {},
   "outputs": [
    {
     "name": "stdin",
     "output_type": "stream",
     "text": [
      "What is the length of your square? 100\n"
     ]
    }
   ],
   "source": [
    "import turtle as t\n",
    "\n",
    "t.reset()\n",
    "l = int(input(\"What is the length of your square?\"))\n",
    "t.forward(l)\n",
    "t.left(90)\n",
    "t.forward(l)\n",
    "t.left(90)\n",
    "t.forward(l)\n",
    "t.left(90)\n",
    "t.forward(l)"
   ]
  },
  {
   "cell_type": "code",
   "execution_count": 5,
   "id": "be9dc82a-320b-4f56-959d-826cf5ea3f18",
   "metadata": {},
   "outputs": [],
   "source": [
    "import turtle as t\n",
    "\n",
    "\n",
    "t.reset()\n",
    "t.left(90)\n",
    "t.penup()\n",
    "t.forward(200)\n",
    "t.right(180)\n",
    "t.pendown()\n",
    "t.fillcolor('red')\n",
    "t.begin_fill()\n",
    "t.circle(60)\n",
    "t.end_fill()\n",
    "\n",
    "t.penup()\n",
    "t.forward(200)\n",
    "t.left(90)\n",
    "t.forward(50)\n",
    "t.pendown()\n",
    "t.fillcolor('yellow')\n",
    "t.begin_fill()\n",
    "t.circle(60)\n",
    "t.end_fill()\n",
    "\n",
    "t.right(90)\n",
    "t.penup()\n",
    "t.forward(25)\n",
    "t.pendown()\n",
    "t.right(90)\n",
    "t.fillcolor('green')\n",
    "t.begin_fill()\n",
    "t.circle(60)\n",
    "t.end_fill()\n",
    "\n",
    "t.left(90)\n",
    "t.penup()\n",
    "t.forward(150)\n",
    "t.left(90)\n",
    "t.pendown()\n",
    "\n",
    "t.pensize(10)\n",
    "t.color('black')\n",
    "t.forward(90)\n",
    "t.left(90)\n",
    "t.forward(460)\n",
    "t.left(90)\n",
    "t.forward(170)\n",
    "t.left(90)\n",
    "t.forward(460)\n",
    "t.left(90)\n",
    "t.forward(90)\n",
    "\n",
    "t.right(90)\n",
    "t.pensize(20)\n",
    "t.forward(200)\n"
   ]
  },
  {
   "cell_type": "code",
   "execution_count": 6,
   "id": "f9c41354-e1aa-484a-a3ee-ed194cafcb4f",
   "metadata": {},
   "outputs": [],
   "source": [
    "import turtle as t\n",
    "\n",
    "t.reset()\n",
    "t.penup()\n",
    "t.goto(-2,-300)\n",
    "t.pendown()\n",
    "t.fillcolor('black')\n",
    "t.begin_fill()\n",
    "t.forward(30)\n",
    "t.left(90)\n",
    "t.forward(60)\n",
    "t.left(90)\n",
    "t.forward(30)\n",
    "t.left(90)\n",
    "t.forward(60)\n",
    "t.end_fill()\n",
    "\n",
    "t.pensize(5)\n",
    "t.left(180)\n",
    "t.penup()\n",
    "t.forward(130)\n",
    "t.left(90)\n",
    "t.forward(80)\n",
    "t.right(90)\n",
    "t.pendown()\n",
    "t.color('red')\n",
    "t.fillcolor('red')\n",
    "t.begin_fill()\n",
    "t.circle(60)\n",
    "t.end_fill()\n",
    "\n",
    "t.right(90)\n",
    "t.penup()\n",
    "t.forward(150)\n",
    "t.left(90)\n",
    "t.pendown()\n",
    "t.color('red')\n",
    "t.fillcolor('red')\n",
    "t.begin_fill()\n",
    "t.circle(60)\n",
    "t.end_fill()\n",
    "\n",
    "t.right(90)\n",
    "t.penup()\n",
    "t.forward(150)\n",
    "t.left(90)\n",
    "t.pendown()\n",
    "t.color('green')\n",
    "t.fillcolor('green')\n",
    "t.begin_fill()\n",
    "t.circle(60)\n",
    "t.end_fill()\n",
    "\n",
    "t.penup()\n",
    "t.forward(120)\n",
    "t.left(90)\n",
    "t.forward(90)\n",
    "\n",
    "t.right(90)\n",
    "t.pendown()\n",
    "t.color('red')\n",
    "t.fillcolor('red')\n",
    "t.begin_fill()\n",
    "t.circle(60)\n",
    "t.end_fill()\n",
    "\n",
    "t.left(90)\n",
    "t.penup()\n",
    "t.forward(140)\n",
    "t.right(90)\n",
    "t.pendown()\n",
    "t.color('green')\n",
    "t.fillcolor('green')\n",
    "t.begin_fill()\n",
    "t.circle(60)\n",
    "t.end_fill()\n",
    "\n",
    "t.right(90)\n",
    "t.penup()\n",
    "t.forward(15)\n",
    "t.left(90)\n",
    "t.forward(70)\n",
    "t.right(90)\n",
    "t.pendown()\n",
    "t.fillcolor('green')\n",
    "t.begin_fill()\n",
    "t.circle(55)\n",
    "t.end_fill()\n",
    "\n",
    "t.penup()\n",
    "t.left(90)\n",
    "t.forward(120)\n",
    "t.left(90)\n",
    "t.right(90)\n",
    "t.pendown()\n",
    "for i in range(5):\n",
    "    t.forward(90)\n",
    "    t.left(144)\n",
    "\n"
   ]
  },
  {
   "cell_type": "code",
   "execution_count": 4,
   "id": "ce7e3123-42e8-4c9d-88ed-4924632dafe2",
   "metadata": {},
   "outputs": [
    {
     "name": "stdin",
     "output_type": "stream",
     "text": [
      "Please enter your first name \n",
      " Yrsa\n"
     ]
    },
    {
     "name": "stdout",
     "output_type": "stream",
     "text": [
      "Hello Yrsa. \n",
      "Welcome!!\n",
      "\n"
     ]
    },
    {
     "name": "stdin",
     "output_type": "stream",
     "text": [
      "What year were you born in? 1972\n"
     ]
    },
    {
     "name": "stdout",
     "output_type": "stream",
     "text": [
      "Yrsa, You are 53 years old\n"
     ]
    }
   ],
   "source": [
    "name = input(\"Please enter your first name \\n\")\n",
    "print(\"Hello\", name +\". \\nWelcome!!\\n\")\n",
    "year = int(input(\"What year were you born in?\"))\n",
    "age = 2025 - year\n",
    "print(name+ ', You are', age, 'years old')"
   ]
  },
  {
   "cell_type": "code",
   "execution_count": 3,
   "id": "74914a8d-08f4-4129-ae57-f29b6b94d560",
   "metadata": {},
   "outputs": [
    {
     "name": "stdin",
     "output_type": "stream",
     "text": [
      "What is the length of your square? 0.1\n"
     ]
    }
   ],
   "source": [
    "import turtle as t\n",
    "\n",
    "t.reset()\n",
    "l = int(input(\"What is the length of your square?\"))\n",
    "t.forward(l)\n",
    "t.left(90)\n",
    "t.forward(l)\n",
    "t.left(90)\n",
    "t.forward(l)\n",
    "t.left(90)\n",
    "t.forward(l)\n"
   ]
  },
  {
   "cell_type": "code",
   "execution_count": 21,
   "id": "a6e908be-155c-45d3-a5d8-696d5df75b33",
   "metadata": {},
   "outputs": [
    {
     "name": "stdin",
     "output_type": "stream",
     "text": [
      "What is the length of your square? 100\n"
     ]
    }
   ],
   "source": [
    "import turtle as t\n",
    "\n",
    "t.reset()\n",
    "l = int(input(\"What is the length of your square?\"))\n",
    "\n",
    "for i in range(4):\n",
    "    t.forward(l)\n",
    "    t.left(90)\n",
    "\n"
   ]
  },
  {
   "cell_type": "code",
   "execution_count": null,
   "id": "1a0b7de0-6886-4192-ae3f-4072887c38ef",
   "metadata": {},
   "outputs": [],
   "source": [
    "import turtle as t\n",
    "\n",
    "t.reset()\n",
    "l = int(input(\"What is the length of your square?\"))\n",
    "\n",
    "for i in range(4):\n",
    "    t.forward(l)\n",
    "    t.left(90)\n"
   ]
  },
  {
   "cell_type": "code",
   "execution_count": 29,
   "id": "bbff6f5c-93c0-4cc2-910e-a0b8b1cf8afa",
   "metadata": {},
   "outputs": [],
   "source": [
    "import turtle as t\n",
    "\n",
    "t.reset()\n",
    "l = 100\n",
    "\n",
    "for i in range(6):\n",
    "    t.forward(l)\n",
    "    t.left(60)\n"
   ]
  },
  {
   "cell_type": "code",
   "execution_count": 27,
   "id": "c319b874-8999-4474-9e80-6ed3af14bd88",
   "metadata": {},
   "outputs": [],
   "source": [
    "import turtle as t\n",
    "\n",
    "t.reset()\n",
    "l = 300\n",
    "\n",
    "for i in range(3):\n",
    "    t.forward(l)\n",
    "    t.left(120)"
   ]
  },
  {
   "cell_type": "code",
   "execution_count": 33,
   "id": "7ad82c1a-7d45-4ba8-8b66-0125313e5648",
   "metadata": {},
   "outputs": [],
   "source": [
    "import turtle as t\n",
    "\n",
    "t.reset()\n",
    "l = 100\n",
    "\n",
    "for i in range(20):\n",
    "    t.forward(l)\n",
    "    t.left(162)"
   ]
  },
  {
   "cell_type": "code",
   "execution_count": 38,
   "id": "6334de56-9235-4430-9571-34336bce07d8",
   "metadata": {},
   "outputs": [],
   "source": [
    "import turtle as t\n",
    "\n",
    "t.reset()\n",
    "l = 100\n",
    "\n",
    "for i in range(20):\n",
    "    t.forward(l)\n",
    "    t.left(198)"
   ]
  },
  {
   "cell_type": "code",
   "execution_count": 1,
   "id": "c2d4b4f1-36a3-462b-87fa-a66959bb66fb",
   "metadata": {},
   "outputs": [],
   "source": [
    "import turtle as t\n",
    "\n",
    "t.reset()\n",
    "l = 100\n",
    "\n",
    "t.right(90)\n",
    "for i in range(5):\n",
    "    t.forward(l)\n",
    "    t.left(144)"
   ]
  },
  {
   "cell_type": "code",
   "execution_count": 1,
   "id": "542f8520-c3f0-42ed-bac0-2fd4734b7fec",
   "metadata": {},
   "outputs": [],
   "source": [
    "for i in range(20,6):\n",
    "    print(i)\n"
   ]
  },
  {
   "cell_type": "code",
   "execution_count": 2,
   "id": "6defb624-a8d3-4243-90df-6575a161b493",
   "metadata": {},
   "outputs": [
    {
     "name": "stdout",
     "output_type": "stream",
     "text": [
      "20\n",
      "21\n",
      "22\n",
      "23\n",
      "24\n",
      "25\n"
     ]
    }
   ],
   "source": [
    "for i in range(20,26):\n",
    "    print(i)"
   ]
  },
  {
   "cell_type": "code",
   "execution_count": 21,
   "id": "3c7b39ec-7fb3-4a37-8426-8e3075e25a13",
   "metadata": {},
   "outputs": [
    {
     "name": "stdin",
     "output_type": "stream",
     "text": [
      "What number would you like a table for? 22\n"
     ]
    },
    {
     "name": "stdout",
     "output_type": "stream",
     "text": [
      "0 x 22 =  0\n",
      "1 x 22 =  22\n",
      "2 x 22 =  44\n",
      "3 x 22 =  66\n",
      "4 x 22 =  88\n",
      "5 x 22 =  110\n",
      "6 x 22 =  132\n",
      "7 x 22 =  154\n",
      "8 x 22 =  176\n",
      "9 x 22 =  198\n",
      "10 x 22 =  220\n"
     ]
    }
   ],
   "source": [
    "x = int(input(\"What number would you like a table for?\"))\n",
    "for i in range(11):\n",
    "    print(f'{i} x {x} = ', i*x)"
   ]
  },
  {
   "cell_type": "code",
   "execution_count": 25,
   "id": "46bccd46-c5c7-404c-9658-09aa34a4d3dc",
   "metadata": {},
   "outputs": [
    {
     "name": "stdout",
     "output_type": "stream",
     "text": [
      "total at the start is 0\n"
     ]
    },
    {
     "name": "stdin",
     "output_type": "stream",
     "text": [
      "Enter a number  12\n"
     ]
    },
    {
     "name": "stdout",
     "output_type": "stream",
     "text": [
      "num = 12\n",
      "new total = 12\n",
      "\n"
     ]
    },
    {
     "name": "stdin",
     "output_type": "stream",
     "text": [
      "Enter a number  12\n"
     ]
    },
    {
     "name": "stdout",
     "output_type": "stream",
     "text": [
      "num = 12\n",
      "new total = 24\n",
      "\n"
     ]
    },
    {
     "name": "stdin",
     "output_type": "stream",
     "text": [
      "Enter a number  12\n"
     ]
    },
    {
     "name": "stdout",
     "output_type": "stream",
     "text": [
      "num = 12\n",
      "new total = 36\n",
      "\n"
     ]
    },
    {
     "name": "stdin",
     "output_type": "stream",
     "text": [
      "Enter a number  12\n"
     ]
    },
    {
     "name": "stdout",
     "output_type": "stream",
     "text": [
      "num = 12\n",
      "new total = 48\n",
      "\n"
     ]
    },
    {
     "name": "stdin",
     "output_type": "stream",
     "text": [
      "Enter a number  12\n"
     ]
    },
    {
     "name": "stdout",
     "output_type": "stream",
     "text": [
      "num = 12\n",
      "new total = 60\n",
      "\n",
      "final total = 60\n"
     ]
    }
   ],
   "source": [
    "total = 0\n",
    "print(f\"total at the start is {total}\")\n",
    "for i in range(5):\n",
    "    num = int(input(\"Enter a number \"))\n",
    "    print(f\"num = {num}\")\n",
    "    total = total + num\n",
    "    print(f\"new total = {total}\\n\")\n",
    "print(f\"final total = {total}\")"
   ]
  },
  {
   "cell_type": "code",
   "execution_count": null,
   "id": "11d7b90e-9fa6-42d2-8b1e-105cbca38b3e",
   "metadata": {},
   "outputs": [],
   "source": []
  }
 ],
 "metadata": {
  "kernelspec": {
   "display_name": "Python [conda env:base] *",
   "language": "python",
   "name": "conda-base-py"
  },
  "language_info": {
   "codemirror_mode": {
    "name": "ipython",
    "version": 3
   },
   "file_extension": ".py",
   "mimetype": "text/x-python",
   "name": "python",
   "nbconvert_exporter": "python",
   "pygments_lexer": "ipython3",
   "version": "3.13.5"
  }
 },
 "nbformat": 4,
 "nbformat_minor": 5
}
